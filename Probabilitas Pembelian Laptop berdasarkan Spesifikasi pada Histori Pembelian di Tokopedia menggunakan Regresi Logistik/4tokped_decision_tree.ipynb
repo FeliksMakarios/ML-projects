{
  "nbformat": 4,
  "nbformat_minor": 0,
  "metadata": {
    "colab": {
      "name": "3tokped_decision_tree.ipynb",
      "provenance": []
    },
    "kernelspec": {
      "name": "python3",
      "display_name": "Python 3"
    },
    "language_info": {
      "name": "python"
    }
  },
  "cells": [
    {
      "cell_type": "code",
      "metadata": {
        "colab": {
          "base_uri": "https://localhost:8080/"
        },
        "id": "Q-9ZLd6qcwR3",
        "outputId": "27722c5e-9793-412c-e6ab-700f896ea4e5"
      },
      "source": [
        "from google.colab import drive\n",
        "drive.mount('/content/drive')"
      ],
      "execution_count": null,
      "outputs": [
        {
          "output_type": "stream",
          "text": [
            "Drive already mounted at /content/drive; to attempt to forcibly remount, call drive.mount(\"/content/drive\", force_remount=True).\n"
          ],
          "name": "stdout"
        }
      ]
    },
    {
      "cell_type": "code",
      "metadata": {
        "colab": {
          "base_uri": "https://localhost:8080/"
        },
        "id": "8B32AmuseKTD",
        "outputId": "2a8dcfa7-3d62-4540-bbcc-e2bfc219d789"
      },
      "source": [
        "!unzip \"/content/drive/My Drive/Dataset/ToPed/tokped_encode2.zip\""
      ],
      "execution_count": null,
      "outputs": [
        {
          "output_type": "stream",
          "text": [
            "Archive:  /content/drive/My Drive/Dataset/ToPed/tokped_encode2.zip\n",
            "replace tokped_encode2.csv? [y]es, [n]o, [A]ll, [N]one, [r]ename: y\n",
            "  inflating: tokped_encode2.csv      \n"
          ],
          "name": "stdout"
        }
      ]
    },
    {
      "cell_type": "code",
      "metadata": {
        "id": "CXyowMj4eYVW"
      },
      "source": [
        "%matplotlib inline\n",
        "from pandas import Series, DataFrame\n",
        "import pandas as pd\n",
        "import numpy as np\n",
        "import os\n",
        "import pydotplus\n",
        "import matplotlib.pylab as plt\n",
        "import matplotlib.image as pltimg\n",
        "from sklearn.model_selection import train_test_split\n",
        "from sklearn.metrics import classification_report\n",
        "import sklearn.metrics\n",
        "from sklearn import datasets\n",
        "from sklearn import svm\n",
        "from sklearn.model_selection import cross_val_score\n",
        "from sklearn.ensemble import RandomForestClassifier\n",
        "from sklearn import tree\n",
        "from sklearn.tree import DecisionTreeClassifier"
      ],
      "execution_count": null,
      "outputs": []
    },
    {
      "cell_type": "code",
      "metadata": {
        "id": "qtLGJc2xedXg"
      },
      "source": [
        "df = pd.read_csv('tokped_encode2.csv')"
      ],
      "execution_count": null,
      "outputs": []
    },
    {
      "cell_type": "code",
      "metadata": {
        "colab": {
          "base_uri": "https://localhost:8080/",
          "height": 200
        },
        "id": "jsLW1Uqietkw",
        "outputId": "2cdbc0d5-c8c6-4b53-d139-91c3fd09d52b"
      },
      "source": [
        "df.head()"
      ],
      "execution_count": null,
      "outputs": [
        {
          "output_type": "execute_result",
          "data": {
            "text/html": [
              "<div>\n",
              "<style scoped>\n",
              "    .dataframe tbody tr th:only-of-type {\n",
              "        vertical-align: middle;\n",
              "    }\n",
              "\n",
              "    .dataframe tbody tr th {\n",
              "        vertical-align: top;\n",
              "    }\n",
              "\n",
              "    .dataframe thead th {\n",
              "        text-align: right;\n",
              "    }\n",
              "</style>\n",
              "<table border=\"1\" class=\"dataframe\">\n",
              "  <thead>\n",
              "    <tr style=\"text-align: right;\">\n",
              "      <th></th>\n",
              "      <th>memory_size</th>\n",
              "      <th>location_cat</th>\n",
              "      <th>sold_cat</th>\n",
              "      <th>type_cat</th>\n",
              "      <th>merk_cat</th>\n",
              "      <th>prosesor_cat</th>\n",
              "      <th>disk_size_cat</th>\n",
              "      <th>price_cat</th>\n",
              "    </tr>\n",
              "  </thead>\n",
              "  <tbody>\n",
              "    <tr>\n",
              "      <th>0</th>\n",
              "      <td>2</td>\n",
              "      <td>12</td>\n",
              "      <td>0</td>\n",
              "      <td>6</td>\n",
              "      <td>0</td>\n",
              "      <td>14</td>\n",
              "      <td>5</td>\n",
              "      <td>0</td>\n",
              "    </tr>\n",
              "    <tr>\n",
              "      <th>1</th>\n",
              "      <td>1</td>\n",
              "      <td>60</td>\n",
              "      <td>2</td>\n",
              "      <td>6</td>\n",
              "      <td>0</td>\n",
              "      <td>4</td>\n",
              "      <td>10</td>\n",
              "      <td>0</td>\n",
              "    </tr>\n",
              "    <tr>\n",
              "      <th>2</th>\n",
              "      <td>1</td>\n",
              "      <td>13</td>\n",
              "      <td>1</td>\n",
              "      <td>6</td>\n",
              "      <td>0</td>\n",
              "      <td>4</td>\n",
              "      <td>10</td>\n",
              "      <td>0</td>\n",
              "    </tr>\n",
              "    <tr>\n",
              "      <th>3</th>\n",
              "      <td>3</td>\n",
              "      <td>13</td>\n",
              "      <td>2</td>\n",
              "      <td>6</td>\n",
              "      <td>0</td>\n",
              "      <td>17</td>\n",
              "      <td>10</td>\n",
              "      <td>1</td>\n",
              "    </tr>\n",
              "    <tr>\n",
              "      <th>4</th>\n",
              "      <td>1</td>\n",
              "      <td>13</td>\n",
              "      <td>112</td>\n",
              "      <td>6</td>\n",
              "      <td>0</td>\n",
              "      <td>14</td>\n",
              "      <td>10</td>\n",
              "      <td>0</td>\n",
              "    </tr>\n",
              "  </tbody>\n",
              "</table>\n",
              "</div>"
            ],
            "text/plain": [
              "   memory_size  location_cat  sold_cat  ...  prosesor_cat  disk_size_cat  price_cat\n",
              "0            2            12         0  ...            14              5          0\n",
              "1            1            60         2  ...             4             10          0\n",
              "2            1            13         1  ...             4             10          0\n",
              "3            3            13         2  ...            17             10          1\n",
              "4            1            13       112  ...            14             10          0\n",
              "\n",
              "[5 rows x 8 columns]"
            ]
          },
          "metadata": {
            "tags": []
          },
          "execution_count": 5
        }
      ]
    },
    {
      "cell_type": "code",
      "metadata": {
        "colab": {
          "base_uri": "https://localhost:8080/"
        },
        "id": "_rbCxs5ge62L",
        "outputId": "39df10b7-e952-4d2a-c134-992b0e2576a6"
      },
      "source": [
        "features = ['sold_cat','prosesor_cat','memory_size','disk_size_cat','price_cat']\n",
        "X = df[features]\n",
        "y = df['merk_cat']\n",
        "\n",
        "print(X)\n",
        "print(y)"
      ],
      "execution_count": null,
      "outputs": [
        {
          "output_type": "stream",
          "text": [
            "        sold_cat  prosesor_cat  memory_size  disk_size_cat  price_cat\n",
            "0              0            14            2              5          0\n",
            "1              2             4            1             10          0\n",
            "2              1             4            1             10          0\n",
            "3              2            17            3             10          1\n",
            "4            112            14            1             10          0\n",
            "...          ...           ...          ...            ...        ...\n",
            "119054         0            10            4              8          1\n",
            "119055         1            18            4              8          1\n",
            "119056         0            14            2              5          0\n",
            "119057         6            18            2              5          1\n",
            "119058         0            19            4              8          2\n",
            "\n",
            "[119059 rows x 5 columns]\n",
            "0         0\n",
            "1         0\n",
            "2         0\n",
            "3         0\n",
            "4         0\n",
            "         ..\n",
            "119054    2\n",
            "119055    2\n",
            "119056    2\n",
            "119057    2\n",
            "119058    2\n",
            "Name: merk_cat, Length: 119059, dtype: int64\n"
          ],
          "name": "stdout"
        }
      ]
    },
    {
      "cell_type": "code",
      "metadata": {
        "colab": {
          "base_uri": "https://localhost:8080/",
          "height": 91
        },
        "id": "VURsEgcifo3_",
        "outputId": "5fbc8c5a-2879-4b4c-a1c7-60a020d4dce9"
      },
      "source": [
        "dtree = DecisionTreeClassifier()\n",
        "dtree = dtree.fit(X, y)\n",
        "data = tree.export_graphviz(dtree, out_file=None, feature_names=features)\n",
        "graph = pydotplus.graph_from_dot_data(data)\n",
        "graph.write_png('mydecisiontree.png')\n",
        "\n",
        "img=pltimg.imread('mydecisiontree.png')\n",
        "imgplot = plt.imshow(img)\n",
        "plt.show()"
      ],
      "execution_count": null,
      "outputs": [
        {
          "output_type": "stream",
          "text": [
            "dot: graph is too large for cairo-renderer bitmaps. Scaling by 0.138257 to fit\n",
            "\n"
          ],
          "name": "stdout"
        },
        {
          "output_type": "display_data",
          "data": {
            "image/png": "[encoded data removed]",
            "text/plain": [
              "<Figure size 432x288 with 1 Axes>"
            ]
          },
          "metadata": {
            "tags": [],
            "needs_background": "light"
          }
        }
      ]
    },
    {
      "cell_type": "code",
      "metadata": {
        "id": "HuKU6PD3f7xl"
      },
      "source": [
        "X_train, X_test, y_train, y_test = train_test_split(X, y, test_size=0.4, random_state = 0)"
      ],
      "execution_count": null,
      "outputs": []
    },
    {
      "cell_type": "code",
      "metadata": {
        "colab": {
          "base_uri": "https://localhost:8080/"
        },
        "id": "n-rgZ1magEs7",
        "outputId": "26f136c0-6f67-4d86-f053-f4b03cf1e9e5"
      },
      "source": [
        "dtree = DecisionTreeClassifier()\n",
        "dtree.fit(X_train, y_train)"
      ],
      "execution_count": null,
      "outputs": [
        {
          "output_type": "execute_result",
          "data": {
            "text/plain": [
              "DecisionTreeClassifier(ccp_alpha=0.0, class_weight=None, criterion='gini',\n",
              "                       max_depth=None, max_features=None, max_leaf_nodes=None,\n",
              "                       min_impurity_decrease=0.0, min_impurity_split=None,\n",
              "                       min_samples_leaf=1, min_samples_split=2,\n",
              "                       min_weight_fraction_leaf=0.0, presort='deprecated',\n",
              "                       random_state=None, splitter='best')"
            ]
          },
          "metadata": {
            "tags": []
          },
          "execution_count": 9
        }
      ]
    },
    {
      "cell_type": "code",
      "metadata": {
        "colab": {
          "base_uri": "https://localhost:8080/"
        },
        "id": "IwEx9j_FgLCu",
        "outputId": "d1513560-a5c9-4123-d43e-ae537fffa51c"
      },
      "source": [
        "y_pred = dtree.predict(X_test)\n",
        "y_pred"
      ],
      "execution_count": null,
      "outputs": [
        {
          "output_type": "execute_result",
          "data": {
            "text/plain": [
              "array([8, 8, 2, ..., 0, 0, 3])"
            ]
          },
          "metadata": {
            "tags": []
          },
          "execution_count": 10
        }
      ]
    },
    {
      "cell_type": "code",
      "metadata": {
        "colab": {
          "base_uri": "https://localhost:8080/"
        },
        "id": "hnl_pKU07bHU",
        "outputId": "c270e647-f96d-4536-aa6d-9fa129580a3e"
      },
      "source": [
        "print(dtree.predict([[6, 19, 5, 8, 2]]))"
      ],
      "execution_count": null,
      "outputs": [
        {
          "output_type": "stream",
          "text": [
            "[8]\n"
          ],
          "name": "stdout"
        }
      ]
    },
    {
      "cell_type": "code",
      "metadata": {
        "colab": {
          "base_uri": "https://localhost:8080/"
        },
        "id": "Og1YCVnGgSUY",
        "outputId": "1d793e0b-fca3-4424-f06c-9cdda7cb2d1a"
      },
      "source": [
        "clf = RandomForestClassifier(n_estimators=20, random_state=0)\n",
        "clf.fit(X_train, y_train)"
      ],
      "execution_count": null,
      "outputs": [
        {
          "output_type": "execute_result",
          "data": {
            "text/plain": [
              "RandomForestClassifier(bootstrap=True, ccp_alpha=0.0, class_weight=None,\n",
              "                       criterion='gini', max_depth=None, max_features='auto',\n",
              "                       max_leaf_nodes=None, max_samples=None,\n",
              "                       min_impurity_decrease=0.0, min_impurity_split=None,\n",
              "                       min_samples_leaf=1, min_samples_split=2,\n",
              "                       min_weight_fraction_leaf=0.0, n_estimators=20,\n",
              "                       n_jobs=None, oob_score=False, random_state=0, verbose=0,\n",
              "                       warm_start=False)"
            ]
          },
          "metadata": {
            "tags": []
          },
          "execution_count": 15
        }
      ]
    },
    {
      "cell_type": "code",
      "metadata": {
        "colab": {
          "base_uri": "https://localhost:8080/"
        },
        "id": "0g2gp6rngYKM",
        "outputId": "98c30e94-af1f-4ca9-8caa-983c405afc79"
      },
      "source": [
        "clf_pred = clf.predict(X_test)\n",
        "clf_pred"
      ],
      "execution_count": null,
      "outputs": [
        {
          "output_type": "execute_result",
          "data": {
            "text/plain": [
              "array([8, 8, 2, ..., 0, 0, 3])"
            ]
          },
          "metadata": {
            "tags": []
          },
          "execution_count": 16
        }
      ]
    },
    {
      "cell_type": "code",
      "metadata": {
        "colab": {
          "base_uri": "https://localhost:8080/"
        },
        "id": "uXBitNJ29_cn",
        "outputId": "b4a582d1-6820-42a4-cf67-45a14fb0c8ce"
      },
      "source": [
        "print(clf.predict([[6, 19, 5, 8, 2]]))"
      ],
      "execution_count": null,
      "outputs": [
        {
          "output_type": "stream",
          "text": [
            "[8]\n"
          ],
          "name": "stdout"
        }
      ]
    },
    {
      "cell_type": "code",
      "metadata": {
        "colab": {
          "base_uri": "https://localhost:8080/"
        },
        "id": "lbnIZjBjgdwn",
        "outputId": "328c22ee-5ba3-46b6-b540-a89b94354939"
      },
      "source": [
        "confusion_array = sklearn.metrics.confusion_matrix(y_test,clf_pred)\n",
        "print(confusion_array)"
      ],
      "execution_count": null,
      "outputs": [
        {
          "output_type": "stream",
          "text": [
            "[[ 5080     0  1263   428     0     0    49     0  1238    32     0     0\n",
            "      0]\n",
            " [    0    44     6     0     0     0     1     0     7     0     0     0\n",
            "      0]\n",
            " [ 1235     1 10926   572     0     0   158     0  2192    62     0     0\n",
            "      0]\n",
            " [  935     3   821  2716     0     0    54     0   898    18     0     0\n",
            "      0]\n",
            " [    4     0     0     0     2     0     0     0     0     0     0     0\n",
            "      0]\n",
            " [    0     0     5     0     0     0     0     0     0     0     0     0\n",
            "      0]\n",
            " [  159     7  1213   118     0     0  1039     0   817    15     0     2\n",
            "      0]\n",
            " [    0     0     0     0     0     0     0     4     2     0     0     0\n",
            "      0]\n",
            " [ 1298     0  1597   440     0     0   231     0 10345    52     0     1\n",
            "      0]\n",
            " [   49     0   564    49     0     0    24     0   397   392     0     0\n",
            "      0]\n",
            " [    0     0     9     0     0     0     0     0     1     0     0     0\n",
            "      0]\n",
            " [    0     0     0     0     0     0     0     0    11     0     0    33\n",
            "      0]\n",
            " [    0     0     0     0     0     0     0     0     5     0     0     0\n",
            "      0]]\n"
          ],
          "name": "stdout"
        }
      ]
    },
    {
      "cell_type": "code",
      "metadata": {
        "colab": {
          "base_uri": "https://localhost:8080/"
        },
        "id": "acSK0Ydsgt3i",
        "outputId": "e3b1cf93-ee3f-423c-fb7f-45b8e6b893eb"
      },
      "source": [
        "confusion_array = sklearn.metrics.confusion_matrix(y_test,y_pred)\n",
        "print(confusion_array)"
      ],
      "execution_count": null,
      "outputs": [
        {
          "output_type": "stream",
          "text": [
            "[[ 5214     0  1195   434     0     0    54     0  1161    32     0     0\n",
            "      0]\n",
            " [    0    44     7     0     0     0     4     0     3     0     0     0\n",
            "      0]\n",
            " [ 1309     1 10887   578     0     0   145     0  2170    56     0     0\n",
            "      0]\n",
            " [  962     3   806  2730     0     0    55     0   871    18     0     0\n",
            "      0]\n",
            " [    4     0     0     0     2     0     0     0     0     0     0     0\n",
            "      0]\n",
            " [    0     0     5     0     0     0     0     0     0     0     0     0\n",
            "      0]\n",
            " [  162     7  1223   118     0     0  1028     0   815    15     0     2\n",
            "      0]\n",
            " [    0     0     0     0     0     0     0     4     2     0     0     0\n",
            "      0]\n",
            " [ 1362     0  1627   422     0     0   230     0 10273    49     0     1\n",
            "      0]\n",
            " [   49     0   574    57     0     0    24     0   382   389     0     0\n",
            "      0]\n",
            " [    0     0     9     0     0     0     0     0     1     0     0     0\n",
            "      0]\n",
            " [    0     0     0     0     0     0     0     0    11     0     0    33\n",
            "      0]\n",
            " [    0     0     0     0     0     0     0     0     5     0     0     0\n",
            "      0]]\n"
          ],
          "name": "stdout"
        }
      ]
    },
    {
      "cell_type": "code",
      "metadata": {
        "colab": {
          "base_uri": "https://localhost:8080/"
        },
        "id": "QeUO1e9sgzUu",
        "outputId": "e52d2c46-0b3e-4f50-f90c-3cb0a3effd38"
      },
      "source": [
        "clf.score(X_test, y_test)"
      ],
      "execution_count": null,
      "outputs": [
        {
          "output_type": "execute_result",
          "data": {
            "text/plain": [
              "0.6421342180413238"
            ]
          },
          "metadata": {
            "tags": []
          },
          "execution_count": 16
        }
      ]
    },
    {
      "cell_type": "code",
      "metadata": {
        "colab": {
          "base_uri": "https://localhost:8080/"
        },
        "id": "zhi_AoVjg6vh",
        "outputId": "d947e17f-746a-480d-81fb-f0f3d5b1026d"
      },
      "source": [
        "sklearn.metrics.accuracy_score(y_test, clf_pred)"
      ],
      "execution_count": null,
      "outputs": [
        {
          "output_type": "execute_result",
          "data": {
            "text/plain": [
              "0.6421342180413238"
            ]
          },
          "metadata": {
            "tags": []
          },
          "execution_count": 17
        }
      ]
    },
    {
      "cell_type": "code",
      "metadata": {
        "colab": {
          "base_uri": "https://localhost:8080/"
        },
        "id": "_J6cbOdThAYZ",
        "outputId": "0714057c-c01f-426c-a715-c48390be6a26"
      },
      "source": [
        "dtree.score(X_test, y_test)"
      ],
      "execution_count": null,
      "outputs": [
        {
          "output_type": "execute_result",
          "data": {
            "text/plain": [
              "0.6426171678145473"
            ]
          },
          "metadata": {
            "tags": []
          },
          "execution_count": 18
        }
      ]
    },
    {
      "cell_type": "code",
      "metadata": {
        "colab": {
          "base_uri": "https://localhost:8080/"
        },
        "id": "Wo8fskBbhEFQ",
        "outputId": "36d4ad8c-90b1-48da-dabd-bea5c9767f3f"
      },
      "source": [
        "sklearn.metrics.accuracy_score(y_test, y_pred)"
      ],
      "execution_count": null,
      "outputs": [
        {
          "output_type": "execute_result",
          "data": {
            "text/plain": [
              "0.6426171678145473"
            ]
          },
          "metadata": {
            "tags": []
          },
          "execution_count": 19
        }
      ]
    },
    {
      "cell_type": "code",
      "metadata": {
        "colab": {
          "base_uri": "https://localhost:8080/"
        },
        "id": "rIjOSKQUhNnR",
        "outputId": "224e86b6-1adc-4b41-cf5a-42df0287c7a0"
      },
      "source": [
        "clf = svm.SVC(kernel='linear', C=1)\n",
        "scores = cross_val_score(clf, X, y, cv=5)\n",
        "scores"
      ],
      "execution_count": null,
      "outputs": [
        {
          "output_type": "execute_result",
          "data": {
            "text/plain": [
              "array([0.32160255, 0.40815555, 0.4192424 , 0.42046027, 0.3758767 ])"
            ]
          },
          "metadata": {
            "tags": []
          },
          "execution_count": 20
        }
      ]
    }
  ]
}