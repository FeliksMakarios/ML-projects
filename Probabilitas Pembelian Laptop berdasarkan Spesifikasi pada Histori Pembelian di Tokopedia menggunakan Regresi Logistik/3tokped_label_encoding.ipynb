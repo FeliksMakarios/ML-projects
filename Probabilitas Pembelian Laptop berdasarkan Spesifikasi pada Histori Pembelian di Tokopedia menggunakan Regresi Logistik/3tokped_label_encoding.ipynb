{
  "nbformat": 4,
  "nbformat_minor": 0,
  "metadata": {
    "colab": {
      "name": "3tokped_label_encoding.ipynb",
      "provenance": []
    },
    "kernelspec": {
      "name": "python3",
      "display_name": "Python 3"
    },
    "language_info": {
      "name": "python"
    }
  },
  "cells": [
    {
      "cell_type": "markdown",
      "metadata": {
        "id": "waNL8pdDwkCB"
      },
      "source": [
        "# **K-Means Clustering**"
      ]
    },
    {
      "cell_type": "markdown",
      "metadata": {
        "id": "EzUlBG-nwqLw"
      },
      "source": [
        "## Pengumpulan Data"
      ]
    },
    {
      "cell_type": "markdown",
      "metadata": {
        "id": "W_0WR2iWlGgz"
      },
      "source": [
        "### Koneksi dengan Drive"
      ]
    },
    {
      "cell_type": "code",
      "metadata": {
        "colab": {
          "base_uri": "https://localhost:8080/"
        },
        "id": "GKt1LHEHfEtP",
        "outputId": "f8e0ccd8-3828-4f75-d1cb-9f1ce6755b37"
      },
      "source": [
        "from google.colab import drive\n",
        "drive.mount('/content/drive')"
      ],
      "execution_count": null,
      "outputs": [
        {
          "output_type": "stream",
          "text": [
            "Mounted at /content/drive\n"
          ],
          "name": "stdout"
        }
      ]
    },
    {
      "cell_type": "markdown",
      "metadata": {
        "id": "2x084R5plMJK"
      },
      "source": [
        "### Import Library dan Dataset"
      ]
    },
    {
      "cell_type": "code",
      "metadata": {
        "id": "8eMrOjO7fPrp"
      },
      "source": [
        "import pandas as pd\n",
        "import numpy as np\n",
        "import os\n",
        "import glob"
      ],
      "execution_count": null,
      "outputs": []
    },
    {
      "cell_type": "code",
      "metadata": {
        "id": "5-QU-dGRfQza"
      },
      "source": [
        "#Pilih direktori Tokped\n",
        "os.chdir(\"/content/drive/My Drive/Dataset/Laptop_Price_List_Tokopedia/Tokped\")"
      ],
      "execution_count": null,
      "outputs": []
    },
    {
      "cell_type": "markdown",
      "metadata": {
        "id": "7kzsoJbAwwya"
      },
      "source": [
        "## Pra Pemrosesan Data"
      ]
    },
    {
      "cell_type": "markdown",
      "metadata": {
        "id": "vAcVEnTNmYXa"
      },
      "source": [
        "### Import Dataset"
      ]
    },
    {
      "cell_type": "code",
      "metadata": {
        "colab": {
          "base_uri": "https://localhost:8080/",
          "height": 419
        },
        "id": "ImlpqYyNfVZe",
        "outputId": "7e10b1eb-67e6-4638-b2d3-a38d0a0a6d4a"
      },
      "source": [
        "df = pd.read_csv('tokped_clean_data5.csv')\n",
        "df"
      ],
      "execution_count": null,
      "outputs": [
        {
          "output_type": "execute_result",
          "data": {
            "text/html": [
              "<div>\n",
              "<style scoped>\n",
              "    .dataframe tbody tr th:only-of-type {\n",
              "        vertical-align: middle;\n",
              "    }\n",
              "\n",
              "    .dataframe tbody tr th {\n",
              "        vertical-align: top;\n",
              "    }\n",
              "\n",
              "    .dataframe thead th {\n",
              "        text-align: right;\n",
              "    }\n",
              "</style>\n",
              "<table border=\"1\" class=\"dataframe\">\n",
              "  <thead>\n",
              "    <tr style=\"text-align: right;\">\n",
              "      <th></th>\n",
              "      <th>name</th>\n",
              "      <th>price</th>\n",
              "      <th>location</th>\n",
              "      <th>sold</th>\n",
              "      <th>date</th>\n",
              "      <th>type</th>\n",
              "      <th>merk</th>\n",
              "      <th>prosesor</th>\n",
              "      <th>memory_size</th>\n",
              "      <th>disk_size</th>\n",
              "    </tr>\n",
              "  </thead>\n",
              "  <tbody>\n",
              "    <tr>\n",
              "      <th>0</th>\n",
              "      <td>Laptop Acer Aspire 3 Celeron N4120 256GB SSD 4...</td>\n",
              "      <td>4499000</td>\n",
              "      <td>Jakarta Barat</td>\n",
              "      <td>1</td>\n",
              "      <td>2020-10-02</td>\n",
              "      <td>Aspire</td>\n",
              "      <td>Acer</td>\n",
              "      <td>Intel Celeron</td>\n",
              "      <td>6 GB</td>\n",
              "      <td>256 GB</td>\n",
              "    </tr>\n",
              "    <tr>\n",
              "      <th>1</th>\n",
              "      <td>LAPTOP ACER ASPIRE 3 A314-21 A4 9120e RAM 4GB ...</td>\n",
              "      <td>3883450</td>\n",
              "      <td>Surabaya</td>\n",
              "      <td>3</td>\n",
              "      <td>2020-10-02</td>\n",
              "      <td>Aspire</td>\n",
              "      <td>Acer</td>\n",
              "      <td>AMD A4</td>\n",
              "      <td>4 GB</td>\n",
              "      <td>1 TB</td>\n",
              "    </tr>\n",
              "    <tr>\n",
              "      <th>2</th>\n",
              "      <td>Acer Aspire 3 A314 A4 9120 4GB 1TB W10 14.0 DV...</td>\n",
              "      <td>3599000</td>\n",
              "      <td>Jakarta Pusat</td>\n",
              "      <td>2</td>\n",
              "      <td>2020-10-02</td>\n",
              "      <td>Aspire</td>\n",
              "      <td>Acer</td>\n",
              "      <td>AMD A4</td>\n",
              "      <td>4 GB</td>\n",
              "      <td>1 TB</td>\n",
              "    </tr>\n",
              "    <tr>\n",
              "      <th>3</th>\n",
              "      <td>PC All In One acer Aspire C24-960 8GB 1TB Core...</td>\n",
              "      <td>7499900</td>\n",
              "      <td>Jakarta Pusat</td>\n",
              "      <td>3</td>\n",
              "      <td>2020-10-02</td>\n",
              "      <td>Aspire</td>\n",
              "      <td>Acer</td>\n",
              "      <td>Intel Core i3</td>\n",
              "      <td>8 GB</td>\n",
              "      <td>1 TB</td>\n",
              "    </tr>\n",
              "    <tr>\n",
              "      <th>4</th>\n",
              "      <td>Laptop Acer Aspire 3 - A314-32 - INTEL N4000 D...</td>\n",
              "      <td>3799000</td>\n",
              "      <td>Jakarta Pusat</td>\n",
              "      <td>118</td>\n",
              "      <td>2020-10-02</td>\n",
              "      <td>Aspire</td>\n",
              "      <td>Acer</td>\n",
              "      <td>Intel Celeron</td>\n",
              "      <td>4 GB</td>\n",
              "      <td>1 TB</td>\n",
              "    </tr>\n",
              "    <tr>\n",
              "      <th>...</th>\n",
              "      <td>...</td>\n",
              "      <td>...</td>\n",
              "      <td>...</td>\n",
              "      <td>...</td>\n",
              "      <td>...</td>\n",
              "      <td>...</td>\n",
              "      <td>...</td>\n",
              "      <td>...</td>\n",
              "      <td>...</td>\n",
              "      <td>...</td>\n",
              "    </tr>\n",
              "    <tr>\n",
              "      <th>119054</th>\n",
              "      <td>ASUS VIVOBOOK FLIP TM420IA RYZEN 5-4500U 8GB 5...</td>\n",
              "      <td>11999000</td>\n",
              "      <td>Jakarta Barat</td>\n",
              "      <td>1</td>\n",
              "      <td>2021-01-26</td>\n",
              "      <td>Vivobook</td>\n",
              "      <td>Asus</td>\n",
              "      <td>AMD Ryzen 5</td>\n",
              "      <td>12 GB</td>\n",
              "      <td>512 GB</td>\n",
              "    </tr>\n",
              "    <tr>\n",
              "      <th>119055</th>\n",
              "      <td>Laptop Asus Vivobook K413FQ i5 8gb 512Gb 14fhd...</td>\n",
              "      <td>12400000</td>\n",
              "      <td>Jakarta Utara</td>\n",
              "      <td>2</td>\n",
              "      <td>2021-01-26</td>\n",
              "      <td>Vivobook</td>\n",
              "      <td>Asus</td>\n",
              "      <td>Intel Core i5</td>\n",
              "      <td>12 GB</td>\n",
              "      <td>512 GB</td>\n",
              "    </tr>\n",
              "    <tr>\n",
              "      <th>119056</th>\n",
              "      <td>Asus vivobook A416ma intel N4020 4gb 256gb 14 ...</td>\n",
              "      <td>5799000</td>\n",
              "      <td>Bandung</td>\n",
              "      <td>1</td>\n",
              "      <td>2021-01-26</td>\n",
              "      <td>Vivobook</td>\n",
              "      <td>Asus</td>\n",
              "      <td>Intel Celeron</td>\n",
              "      <td>6 GB</td>\n",
              "      <td>256 GB</td>\n",
              "    </tr>\n",
              "    <tr>\n",
              "      <th>119057</th>\n",
              "      <td>ASUS VIVOBOOK A407UF I5 8250U 4GB 256GB MX130 ...</td>\n",
              "      <td>9800000</td>\n",
              "      <td>Kab. Bekasi</td>\n",
              "      <td>7</td>\n",
              "      <td>2021-01-26</td>\n",
              "      <td>Vivobook</td>\n",
              "      <td>Asus</td>\n",
              "      <td>Intel Core i5</td>\n",
              "      <td>6 GB</td>\n",
              "      <td>256 GB</td>\n",
              "    </tr>\n",
              "    <tr>\n",
              "      <th>119058</th>\n",
              "      <td>LAPTOP ASUS VIVOBOOK K413EQ I7-1165G7 8GB 512G...</td>\n",
              "      <td>13899000</td>\n",
              "      <td>Jakarta Barat</td>\n",
              "      <td>1</td>\n",
              "      <td>2021-01-26</td>\n",
              "      <td>Vivobook</td>\n",
              "      <td>Asus</td>\n",
              "      <td>Intel Core i7</td>\n",
              "      <td>12 GB</td>\n",
              "      <td>512 GB</td>\n",
              "    </tr>\n",
              "  </tbody>\n",
              "</table>\n",
              "<p>119059 rows × 10 columns</p>\n",
              "</div>"
            ],
            "text/plain": [
              "                                                     name  ...  disk_size\n",
              "0       Laptop Acer Aspire 3 Celeron N4120 256GB SSD 4...  ...     256 GB\n",
              "1       LAPTOP ACER ASPIRE 3 A314-21 A4 9120e RAM 4GB ...  ...       1 TB\n",
              "2       Acer Aspire 3 A314 A4 9120 4GB 1TB W10 14.0 DV...  ...       1 TB\n",
              "3       PC All In One acer Aspire C24-960 8GB 1TB Core...  ...       1 TB\n",
              "4       Laptop Acer Aspire 3 - A314-32 - INTEL N4000 D...  ...       1 TB\n",
              "...                                                   ...  ...        ...\n",
              "119054  ASUS VIVOBOOK FLIP TM420IA RYZEN 5-4500U 8GB 5...  ...     512 GB\n",
              "119055  Laptop Asus Vivobook K413FQ i5 8gb 512Gb 14fhd...  ...     512 GB\n",
              "119056  Asus vivobook A416ma intel N4020 4gb 256gb 14 ...  ...     256 GB\n",
              "119057  ASUS VIVOBOOK A407UF I5 8250U 4GB 256GB MX130 ...  ...     256 GB\n",
              "119058  LAPTOP ASUS VIVOBOOK K413EQ I7-1165G7 8GB 512G...  ...     512 GB\n",
              "\n",
              "[119059 rows x 10 columns]"
            ]
          },
          "metadata": {
            "tags": []
          },
          "execution_count": 53
        }
      ]
    },
    {
      "cell_type": "code",
      "metadata": {
        "colab": {
          "base_uri": "https://localhost:8080/"
        },
        "id": "CLNk5-XYfbAv",
        "outputId": "dadad519-a8dd-4d86-ab61-3e41dda7a267"
      },
      "source": [
        "df.shape"
      ],
      "execution_count": null,
      "outputs": [
        {
          "output_type": "execute_result",
          "data": {
            "text/plain": [
              "(119059, 10)"
            ]
          },
          "metadata": {
            "tags": []
          },
          "execution_count": 54
        }
      ]
    },
    {
      "cell_type": "code",
      "metadata": {
        "colab": {
          "base_uri": "https://localhost:8080/"
        },
        "id": "q2z3df2GfecT",
        "outputId": "f8de7381-3bf1-4901-91b1-707e1580b05e"
      },
      "source": [
        "df.info()"
      ],
      "execution_count": null,
      "outputs": [
        {
          "output_type": "stream",
          "text": [
            "<class 'pandas.core.frame.DataFrame'>\n",
            "RangeIndex: 119059 entries, 0 to 119058\n",
            "Data columns (total 10 columns):\n",
            " #   Column       Non-Null Count   Dtype \n",
            "---  ------       --------------   ----- \n",
            " 0   name         119059 non-null  object\n",
            " 1   price        119059 non-null  int64 \n",
            " 2   location     119059 non-null  object\n",
            " 3   sold         119059 non-null  int64 \n",
            " 4   date         119059 non-null  object\n",
            " 5   type         119059 non-null  object\n",
            " 6   merk         119059 non-null  object\n",
            " 7   prosesor     119059 non-null  object\n",
            " 8   memory_size  119059 non-null  object\n",
            " 9   disk_size    119059 non-null  object\n",
            "dtypes: int64(2), object(8)\n",
            "memory usage: 9.1+ MB\n"
          ],
          "name": "stdout"
        }
      ]
    },
    {
      "cell_type": "code",
      "metadata": {
        "colab": {
          "base_uri": "https://localhost:8080/"
        },
        "id": "-mzriuzLfmvS",
        "outputId": "ea7d8393-5d69-46c4-b857-aac82fd0e5aa"
      },
      "source": [
        "# Memeriksa value unik dari setiap kolom\n",
        "df.nunique()"
      ],
      "execution_count": null,
      "outputs": [
        {
          "output_type": "execute_result",
          "data": {
            "text/plain": [
              "name           7926\n",
              "price          2968\n",
              "location         66\n",
              "sold            230\n",
              "date             39\n",
              "type             49\n",
              "merk             13\n",
              "prosesor         25\n",
              "memory_size       8\n",
              "disk_size        12\n",
              "dtype: int64"
            ]
          },
          "metadata": {
            "tags": []
          },
          "execution_count": 56
        }
      ]
    },
    {
      "cell_type": "code",
      "metadata": {
        "colab": {
          "base_uri": "https://localhost:8080/",
          "height": 419
        },
        "id": "cpHw_uVEfsso",
        "outputId": "d83b49a1-dca5-469d-edeb-e6145119fc8f"
      },
      "source": [
        "tokped = df.drop(['name'], axis=1)\n",
        "tokped"
      ],
      "execution_count": null,
      "outputs": [
        {
          "output_type": "execute_result",
          "data": {
            "text/html": [
              "<div>\n",
              "<style scoped>\n",
              "    .dataframe tbody tr th:only-of-type {\n",
              "        vertical-align: middle;\n",
              "    }\n",
              "\n",
              "    .dataframe tbody tr th {\n",
              "        vertical-align: top;\n",
              "    }\n",
              "\n",
              "    .dataframe thead th {\n",
              "        text-align: right;\n",
              "    }\n",
              "</style>\n",
              "<table border=\"1\" class=\"dataframe\">\n",
              "  <thead>\n",
              "    <tr style=\"text-align: right;\">\n",
              "      <th></th>\n",
              "      <th>price</th>\n",
              "      <th>location</th>\n",
              "      <th>sold</th>\n",
              "      <th>date</th>\n",
              "      <th>type</th>\n",
              "      <th>merk</th>\n",
              "      <th>prosesor</th>\n",
              "      <th>memory_size</th>\n",
              "      <th>disk_size</th>\n",
              "    </tr>\n",
              "  </thead>\n",
              "  <tbody>\n",
              "    <tr>\n",
              "      <th>0</th>\n",
              "      <td>4499000</td>\n",
              "      <td>Jakarta Barat</td>\n",
              "      <td>1</td>\n",
              "      <td>2020-10-02</td>\n",
              "      <td>Aspire</td>\n",
              "      <td>Acer</td>\n",
              "      <td>Intel Celeron</td>\n",
              "      <td>6 GB</td>\n",
              "      <td>256 GB</td>\n",
              "    </tr>\n",
              "    <tr>\n",
              "      <th>1</th>\n",
              "      <td>3883450</td>\n",
              "      <td>Surabaya</td>\n",
              "      <td>3</td>\n",
              "      <td>2020-10-02</td>\n",
              "      <td>Aspire</td>\n",
              "      <td>Acer</td>\n",
              "      <td>AMD A4</td>\n",
              "      <td>4 GB</td>\n",
              "      <td>1 TB</td>\n",
              "    </tr>\n",
              "    <tr>\n",
              "      <th>2</th>\n",
              "      <td>3599000</td>\n",
              "      <td>Jakarta Pusat</td>\n",
              "      <td>2</td>\n",
              "      <td>2020-10-02</td>\n",
              "      <td>Aspire</td>\n",
              "      <td>Acer</td>\n",
              "      <td>AMD A4</td>\n",
              "      <td>4 GB</td>\n",
              "      <td>1 TB</td>\n",
              "    </tr>\n",
              "    <tr>\n",
              "      <th>3</th>\n",
              "      <td>7499900</td>\n",
              "      <td>Jakarta Pusat</td>\n",
              "      <td>3</td>\n",
              "      <td>2020-10-02</td>\n",
              "      <td>Aspire</td>\n",
              "      <td>Acer</td>\n",
              "      <td>Intel Core i3</td>\n",
              "      <td>8 GB</td>\n",
              "      <td>1 TB</td>\n",
              "    </tr>\n",
              "    <tr>\n",
              "      <th>4</th>\n",
              "      <td>3799000</td>\n",
              "      <td>Jakarta Pusat</td>\n",
              "      <td>118</td>\n",
              "      <td>2020-10-02</td>\n",
              "      <td>Aspire</td>\n",
              "      <td>Acer</td>\n",
              "      <td>Intel Celeron</td>\n",
              "      <td>4 GB</td>\n",
              "      <td>1 TB</td>\n",
              "    </tr>\n",
              "    <tr>\n",
              "      <th>...</th>\n",
              "      <td>...</td>\n",
              "      <td>...</td>\n",
              "      <td>...</td>\n",
              "      <td>...</td>\n",
              "      <td>...</td>\n",
              "      <td>...</td>\n",
              "      <td>...</td>\n",
              "      <td>...</td>\n",
              "      <td>...</td>\n",
              "    </tr>\n",
              "    <tr>\n",
              "      <th>119054</th>\n",
              "      <td>11999000</td>\n",
              "      <td>Jakarta Barat</td>\n",
              "      <td>1</td>\n",
              "      <td>2021-01-26</td>\n",
              "      <td>Vivobook</td>\n",
              "      <td>Asus</td>\n",
              "      <td>AMD Ryzen 5</td>\n",
              "      <td>12 GB</td>\n",
              "      <td>512 GB</td>\n",
              "    </tr>\n",
              "    <tr>\n",
              "      <th>119055</th>\n",
              "      <td>12400000</td>\n",
              "      <td>Jakarta Utara</td>\n",
              "      <td>2</td>\n",
              "      <td>2021-01-26</td>\n",
              "      <td>Vivobook</td>\n",
              "      <td>Asus</td>\n",
              "      <td>Intel Core i5</td>\n",
              "      <td>12 GB</td>\n",
              "      <td>512 GB</td>\n",
              "    </tr>\n",
              "    <tr>\n",
              "      <th>119056</th>\n",
              "      <td>5799000</td>\n",
              "      <td>Bandung</td>\n",
              "      <td>1</td>\n",
              "      <td>2021-01-26</td>\n",
              "      <td>Vivobook</td>\n",
              "      <td>Asus</td>\n",
              "      <td>Intel Celeron</td>\n",
              "      <td>6 GB</td>\n",
              "      <td>256 GB</td>\n",
              "    </tr>\n",
              "    <tr>\n",
              "      <th>119057</th>\n",
              "      <td>9800000</td>\n",
              "      <td>Kab. Bekasi</td>\n",
              "      <td>7</td>\n",
              "      <td>2021-01-26</td>\n",
              "      <td>Vivobook</td>\n",
              "      <td>Asus</td>\n",
              "      <td>Intel Core i5</td>\n",
              "      <td>6 GB</td>\n",
              "      <td>256 GB</td>\n",
              "    </tr>\n",
              "    <tr>\n",
              "      <th>119058</th>\n",
              "      <td>13899000</td>\n",
              "      <td>Jakarta Barat</td>\n",
              "      <td>1</td>\n",
              "      <td>2021-01-26</td>\n",
              "      <td>Vivobook</td>\n",
              "      <td>Asus</td>\n",
              "      <td>Intel Core i7</td>\n",
              "      <td>12 GB</td>\n",
              "      <td>512 GB</td>\n",
              "    </tr>\n",
              "  </tbody>\n",
              "</table>\n",
              "<p>119059 rows × 9 columns</p>\n",
              "</div>"
            ],
            "text/plain": [
              "           price       location  sold  ...       prosesor memory_size disk_size\n",
              "0        4499000  Jakarta Barat     1  ...  Intel Celeron        6 GB    256 GB\n",
              "1        3883450       Surabaya     3  ...         AMD A4        4 GB      1 TB\n",
              "2        3599000  Jakarta Pusat     2  ...         AMD A4        4 GB      1 TB\n",
              "3        7499900  Jakarta Pusat     3  ...  Intel Core i3        8 GB      1 TB\n",
              "4        3799000  Jakarta Pusat   118  ...  Intel Celeron        4 GB      1 TB\n",
              "...          ...            ...   ...  ...            ...         ...       ...\n",
              "119054  11999000  Jakarta Barat     1  ...    AMD Ryzen 5       12 GB    512 GB\n",
              "119055  12400000  Jakarta Utara     2  ...  Intel Core i5       12 GB    512 GB\n",
              "119056   5799000        Bandung     1  ...  Intel Celeron        6 GB    256 GB\n",
              "119057   9800000    Kab. Bekasi     7  ...  Intel Core i5        6 GB    256 GB\n",
              "119058  13899000  Jakarta Barat     1  ...  Intel Core i7       12 GB    512 GB\n",
              "\n",
              "[119059 rows x 9 columns]"
            ]
          },
          "metadata": {
            "tags": []
          },
          "execution_count": 57
        }
      ]
    },
    {
      "cell_type": "code",
      "metadata": {
        "colab": {
          "base_uri": "https://localhost:8080/",
          "height": 419
        },
        "id": "qWNT_jOQldgi",
        "outputId": "f1581638-75f8-454a-e69c-74b7bf7daa9d"
      },
      "source": [
        "tokped2 = tokped.drop(['date'], axis=1)\n",
        "tokped2"
      ],
      "execution_count": null,
      "outputs": [
        {
          "output_type": "execute_result",
          "data": {
            "text/html": [
              "<div>\n",
              "<style scoped>\n",
              "    .dataframe tbody tr th:only-of-type {\n",
              "        vertical-align: middle;\n",
              "    }\n",
              "\n",
              "    .dataframe tbody tr th {\n",
              "        vertical-align: top;\n",
              "    }\n",
              "\n",
              "    .dataframe thead th {\n",
              "        text-align: right;\n",
              "    }\n",
              "</style>\n",
              "<table border=\"1\" class=\"dataframe\">\n",
              "  <thead>\n",
              "    <tr style=\"text-align: right;\">\n",
              "      <th></th>\n",
              "      <th>price</th>\n",
              "      <th>location</th>\n",
              "      <th>sold</th>\n",
              "      <th>type</th>\n",
              "      <th>merk</th>\n",
              "      <th>prosesor</th>\n",
              "      <th>memory_size</th>\n",
              "      <th>disk_size</th>\n",
              "    </tr>\n",
              "  </thead>\n",
              "  <tbody>\n",
              "    <tr>\n",
              "      <th>0</th>\n",
              "      <td>4499000</td>\n",
              "      <td>Jakarta Barat</td>\n",
              "      <td>1</td>\n",
              "      <td>Aspire</td>\n",
              "      <td>Acer</td>\n",
              "      <td>Intel Celeron</td>\n",
              "      <td>6 GB</td>\n",
              "      <td>256 GB</td>\n",
              "    </tr>\n",
              "    <tr>\n",
              "      <th>1</th>\n",
              "      <td>3883450</td>\n",
              "      <td>Surabaya</td>\n",
              "      <td>3</td>\n",
              "      <td>Aspire</td>\n",
              "      <td>Acer</td>\n",
              "      <td>AMD A4</td>\n",
              "      <td>4 GB</td>\n",
              "      <td>1 TB</td>\n",
              "    </tr>\n",
              "    <tr>\n",
              "      <th>2</th>\n",
              "      <td>3599000</td>\n",
              "      <td>Jakarta Pusat</td>\n",
              "      <td>2</td>\n",
              "      <td>Aspire</td>\n",
              "      <td>Acer</td>\n",
              "      <td>AMD A4</td>\n",
              "      <td>4 GB</td>\n",
              "      <td>1 TB</td>\n",
              "    </tr>\n",
              "    <tr>\n",
              "      <th>3</th>\n",
              "      <td>7499900</td>\n",
              "      <td>Jakarta Pusat</td>\n",
              "      <td>3</td>\n",
              "      <td>Aspire</td>\n",
              "      <td>Acer</td>\n",
              "      <td>Intel Core i3</td>\n",
              "      <td>8 GB</td>\n",
              "      <td>1 TB</td>\n",
              "    </tr>\n",
              "    <tr>\n",
              "      <th>4</th>\n",
              "      <td>3799000</td>\n",
              "      <td>Jakarta Pusat</td>\n",
              "      <td>118</td>\n",
              "      <td>Aspire</td>\n",
              "      <td>Acer</td>\n",
              "      <td>Intel Celeron</td>\n",
              "      <td>4 GB</td>\n",
              "      <td>1 TB</td>\n",
              "    </tr>\n",
              "    <tr>\n",
              "      <th>...</th>\n",
              "      <td>...</td>\n",
              "      <td>...</td>\n",
              "      <td>...</td>\n",
              "      <td>...</td>\n",
              "      <td>...</td>\n",
              "      <td>...</td>\n",
              "      <td>...</td>\n",
              "      <td>...</td>\n",
              "    </tr>\n",
              "    <tr>\n",
              "      <th>119054</th>\n",
              "      <td>11999000</td>\n",
              "      <td>Jakarta Barat</td>\n",
              "      <td>1</td>\n",
              "      <td>Vivobook</td>\n",
              "      <td>Asus</td>\n",
              "      <td>AMD Ryzen 5</td>\n",
              "      <td>12 GB</td>\n",
              "      <td>512 GB</td>\n",
              "    </tr>\n",
              "    <tr>\n",
              "      <th>119055</th>\n",
              "      <td>12400000</td>\n",
              "      <td>Jakarta Utara</td>\n",
              "      <td>2</td>\n",
              "      <td>Vivobook</td>\n",
              "      <td>Asus</td>\n",
              "      <td>Intel Core i5</td>\n",
              "      <td>12 GB</td>\n",
              "      <td>512 GB</td>\n",
              "    </tr>\n",
              "    <tr>\n",
              "      <th>119056</th>\n",
              "      <td>5799000</td>\n",
              "      <td>Bandung</td>\n",
              "      <td>1</td>\n",
              "      <td>Vivobook</td>\n",
              "      <td>Asus</td>\n",
              "      <td>Intel Celeron</td>\n",
              "      <td>6 GB</td>\n",
              "      <td>256 GB</td>\n",
              "    </tr>\n",
              "    <tr>\n",
              "      <th>119057</th>\n",
              "      <td>9800000</td>\n",
              "      <td>Kab. Bekasi</td>\n",
              "      <td>7</td>\n",
              "      <td>Vivobook</td>\n",
              "      <td>Asus</td>\n",
              "      <td>Intel Core i5</td>\n",
              "      <td>6 GB</td>\n",
              "      <td>256 GB</td>\n",
              "    </tr>\n",
              "    <tr>\n",
              "      <th>119058</th>\n",
              "      <td>13899000</td>\n",
              "      <td>Jakarta Barat</td>\n",
              "      <td>1</td>\n",
              "      <td>Vivobook</td>\n",
              "      <td>Asus</td>\n",
              "      <td>Intel Core i7</td>\n",
              "      <td>12 GB</td>\n",
              "      <td>512 GB</td>\n",
              "    </tr>\n",
              "  </tbody>\n",
              "</table>\n",
              "<p>119059 rows × 8 columns</p>\n",
              "</div>"
            ],
            "text/plain": [
              "           price       location  sold  ...       prosesor memory_size disk_size\n",
              "0        4499000  Jakarta Barat     1  ...  Intel Celeron        6 GB    256 GB\n",
              "1        3883450       Surabaya     3  ...         AMD A4        4 GB      1 TB\n",
              "2        3599000  Jakarta Pusat     2  ...         AMD A4        4 GB      1 TB\n",
              "3        7499900  Jakarta Pusat     3  ...  Intel Core i3        8 GB      1 TB\n",
              "4        3799000  Jakarta Pusat   118  ...  Intel Celeron        4 GB      1 TB\n",
              "...          ...            ...   ...  ...            ...         ...       ...\n",
              "119054  11999000  Jakarta Barat     1  ...    AMD Ryzen 5       12 GB    512 GB\n",
              "119055  12400000  Jakarta Utara     2  ...  Intel Core i5       12 GB    512 GB\n",
              "119056   5799000        Bandung     1  ...  Intel Celeron        6 GB    256 GB\n",
              "119057   9800000    Kab. Bekasi     7  ...  Intel Core i5        6 GB    256 GB\n",
              "119058  13899000  Jakarta Barat     1  ...  Intel Core i7       12 GB    512 GB\n",
              "\n",
              "[119059 rows x 8 columns]"
            ]
          },
          "metadata": {
            "tags": []
          },
          "execution_count": 58
        }
      ]
    },
    {
      "cell_type": "code",
      "metadata": {
        "colab": {
          "base_uri": "https://localhost:8080/"
        },
        "id": "ygGy-1AeiKJx",
        "outputId": "f9159f34-6516-40a1-acfa-32462c020e00"
      },
      "source": [
        "# Melihat nilai unik apa saja yang ada pada kolom memory size\n",
        "tokped['memory_size'].unique()"
      ],
      "execution_count": null,
      "outputs": [
        {
          "output_type": "execute_result",
          "data": {
            "text/plain": [
              "array(['6 GB', '4 GB', '8 GB', '12 GB', '16 GB', '2 GB', '32 GB', '20 GB'],\n",
              "      dtype=object)"
            ]
          },
          "metadata": {
            "tags": []
          },
          "execution_count": 59
        }
      ]
    },
    {
      "cell_type": "code",
      "metadata": {
        "colab": {
          "base_uri": "https://localhost:8080/"
        },
        "id": "W66vrZ1h5OiW",
        "outputId": "76d85911-b307-4304-b1fd-1dda88e02525"
      },
      "source": [
        "# Melihat nilai unik apa saja yang ada pada kolom disk size\n",
        "tokped['disk_size'].unique()"
      ],
      "execution_count": null,
      "outputs": [
        {
          "output_type": "execute_result",
          "data": {
            "text/plain": [
              "array(['256 GB', '1 TB', '512 GB', '500 GB', '128 GB', '2 TB', '240 GB',\n",
              "       '320 GB', '120 GB', '250 GB', '750 GB', '180 GB'], dtype=object)"
            ]
          },
          "metadata": {
            "tags": []
          },
          "execution_count": 60
        }
      ]
    },
    {
      "cell_type": "code",
      "metadata": {
        "id": "XSqd0CqX6Rtq",
        "colab": {
          "base_uri": "https://localhost:8080/"
        },
        "outputId": "19a792ab-ddda-473d-8b52-d4f0f17ae9ab"
      },
      "source": [
        "# Melihat nilai unik apa saja yang ada pada kolom disk size\n",
        "tokped['disk_size'].unique()"
      ],
      "execution_count": null,
      "outputs": [
        {
          "output_type": "execute_result",
          "data": {
            "text/plain": [
              "array(['256 GB', '1 TB', '512 GB', '500 GB', '128 GB', '2 TB', '240 GB',\n",
              "       '320 GB', '120 GB', '250 GB', '750 GB', '180 GB'], dtype=object)"
            ]
          },
          "metadata": {
            "tags": []
          },
          "execution_count": 61
        }
      ]
    },
    {
      "cell_type": "markdown",
      "metadata": {
        "id": "aDM3kf-PnvBB"
      },
      "source": [
        "## Label Encoding"
      ]
    },
    {
      "cell_type": "markdown",
      "metadata": {
        "id": "mSo7UQIqq-Tt"
      },
      "source": [
        "### Konversi dan Encoding Kolom"
      ]
    },
    {
      "cell_type": "markdown",
      "metadata": {
        "id": "_Ckc9kBLp3ZO"
      },
      "source": [
        "Konversi kolom menjadi tipe data kategori terlebih dahulu. Lalu lakukan label encoding pada kolom yang sudah diubah menjadi tipe data kategori"
      ]
    },
    {
      "cell_type": "code",
      "metadata": {
        "id": "mIpbKQmMdVgb"
      },
      "source": [
        "# Untuk melihat dan menyimpan nilai asli dari setiap data yang sudah dikategorikan\n",
        "from sklearn import preprocessing\n",
        "le = preprocessing.LabelEncoder()"
      ],
      "execution_count": null,
      "outputs": []
    },
    {
      "cell_type": "markdown",
      "metadata": {
        "id": "Hldoh11BfmNl"
      },
      "source": [
        "#### Kolom `location`"
      ]
    },
    {
      "cell_type": "code",
      "metadata": {
        "id": "BHoEBtA8nt7m"
      },
      "source": [
        "tokped2[\"location\"] = tokped2[\"location\"].astype('category')"
      ],
      "execution_count": null,
      "outputs": []
    },
    {
      "cell_type": "code",
      "metadata": {
        "colab": {
          "base_uri": "https://localhost:8080/"
        },
        "id": "wcQ8BDMfdbnU",
        "outputId": "b2864343-fa0e-4af2-a219-8b5413b133f2"
      },
      "source": [
        "le.fit(tokped['location'])\n",
        "le_location = dict(zip(le.classes_, le.transform(le.classes_)))\n",
        "print(le_location)"
      ],
      "execution_count": null,
      "outputs": [
        {
          "output_type": "stream",
          "text": [
            "{'Balikpapan': 0, 'Bandar Lampung': 1, 'Bandung': 2, 'Banjarmasin': 3, 'Batam': 4, 'Bekasi': 5, 'Bengkulu': 6, 'Binjai': 7, 'Blitar': 8, 'Bogor': 9, 'Denpasar': 10, 'Depok': 11, 'Jakarta Barat': 12, 'Jakarta Pusat': 13, 'Jakarta Selatan': 14, 'Jakarta Timur': 15, 'Jakarta Utara': 16, 'Jambi': 17, 'Kab. Bandung': 18, 'Kab. Bandung Barat': 19, 'Kab. Bangka': 20, 'Kab. Banyumas': 21, 'Kab. Banyuwangi': 22, 'Kab. Batang': 23, 'Kab. Bekasi': 24, 'Kab. Bogor': 25, 'Kab. Deli Serdang': 26, 'Kab. Gianyar': 27, 'Kab. Jember': 28, 'Kab. Karawang': 29, 'Kab. Kediri': 30, 'Kab. Kendal': 31, 'Kab. Kotabaru': 32, 'Kab. Lebak': 33, 'Kab. Malang': 34, 'Kab. Pasuruan': 35, 'Kab. Pati': 36, 'Kab. Pekalongan': 37, 'Kab. Purworejo': 38, 'Kab. Sidoarjo': 39, 'Kab. Sleman': 40, 'Kab. Tangerang': 41, 'Kediri': 42, 'Magelang': 43, 'Makassar': 44, 'Malang': 45, 'Manado': 46, 'Mataram': 47, 'Medan': 48, 'Mojokerto': 49, 'Padang': 50, 'Palembang': 51, 'Pasuruan': 52, 'Pekanbaru': 53, 'Pontianak': 54, 'Salatiga': 55, 'Samarinda': 56, 'Semarang': 57, 'Serang': 58, 'Singkawang': 59, 'Surabaya': 60, 'Surakarta': 61, 'Tangerang': 62, 'Tangerang Selatan': 63, 'Tasikmalaya': 64, 'Yogyakarta': 65}\n"
          ],
          "name": "stdout"
        }
      ]
    },
    {
      "cell_type": "code",
      "metadata": {
        "id": "1AqzckhPpsWX"
      },
      "source": [
        "tokped2[\"location_cat\"] = tokped2[\"location\"].cat.codes"
      ],
      "execution_count": null,
      "outputs": []
    },
    {
      "cell_type": "markdown",
      "metadata": {
        "id": "8VumNbiqfqCz"
      },
      "source": [
        "#### Kolom `sold`"
      ]
    },
    {
      "cell_type": "code",
      "metadata": {
        "id": "eN5YpFYNovok"
      },
      "source": [
        "tokped2[\"sold\"] = tokped2[\"sold\"].astype('category')"
      ],
      "execution_count": null,
      "outputs": []
    },
    {
      "cell_type": "code",
      "metadata": {
        "colab": {
          "base_uri": "https://localhost:8080/"
        },
        "id": "GesdKCZPe9FA",
        "outputId": "efeb75e8-19d4-4e8c-f130-4478c4266d58"
      },
      "source": [
        "le.fit(tokped['sold'])\n",
        "le_sold = dict(zip(le.classes_, le.transform(le.classes_)))\n",
        "print(le_sold)"
      ],
      "execution_count": null,
      "outputs": [
        {
          "output_type": "stream",
          "text": [
            "{1: 0, 2: 1, 3: 2, 4: 3, 5: 4, 6: 5, 7: 6, 8: 7, 9: 8, 10: 9, 11: 10, 12: 11, 13: 12, 14: 13, 15: 14, 16: 15, 17: 16, 18: 17, 19: 18, 20: 19, 21: 20, 22: 21, 23: 22, 24: 23, 25: 24, 26: 25, 27: 26, 28: 27, 29: 28, 30: 29, 31: 30, 32: 31, 33: 32, 34: 33, 35: 34, 36: 35, 37: 36, 38: 37, 39: 38, 40: 39, 41: 40, 42: 41, 43: 42, 44: 43, 45: 44, 46: 45, 47: 46, 48: 47, 49: 48, 50: 49, 51: 50, 52: 51, 53: 52, 54: 53, 55: 54, 56: 55, 57: 56, 58: 57, 59: 58, 60: 59, 61: 60, 62: 61, 63: 62, 64: 63, 65: 64, 66: 65, 68: 66, 69: 67, 70: 68, 71: 69, 72: 70, 73: 71, 74: 72, 75: 73, 76: 74, 77: 75, 78: 76, 79: 77, 80: 78, 81: 79, 82: 80, 83: 81, 84: 82, 85: 83, 86: 84, 87: 85, 88: 86, 89: 87, 90: 88, 91: 89, 92: 90, 93: 91, 94: 92, 95: 93, 96: 94, 97: 95, 98: 96, 99: 97, 100: 98, 101: 99, 102: 100, 103: 101, 104: 102, 105: 103, 106: 104, 108: 105, 109: 106, 112: 107, 114: 108, 115: 109, 116: 110, 117: 111, 118: 112, 119: 113, 120: 114, 121: 115, 122: 116, 123: 117, 124: 118, 125: 119, 126: 120, 127: 121, 128: 122, 129: 123, 130: 124, 131: 125, 132: 126, 133: 127, 134: 128, 136: 129, 137: 130, 138: 131, 140: 132, 141: 133, 142: 134, 143: 135, 144: 136, 145: 137, 146: 138, 147: 139, 148: 140, 149: 141, 150: 142, 151: 143, 152: 144, 153: 145, 155: 146, 156: 147, 157: 148, 161: 149, 166: 150, 169: 151, 170: 152, 171: 153, 172: 154, 173: 155, 174: 156, 175: 157, 176: 158, 178: 159, 179: 160, 180: 161, 182: 162, 183: 163, 184: 164, 190: 165, 191: 166, 192: 167, 194: 168, 195: 169, 196: 170, 197: 171, 198: 172, 200: 173, 201: 174, 202: 175, 203: 176, 204: 177, 205: 178, 206: 179, 210: 180, 212: 181, 219: 182, 220: 183, 224: 184, 230: 185, 233: 186, 234: 187, 235: 188, 236: 189, 238: 190, 240: 191, 241: 192, 244: 193, 245: 194, 261: 195, 262: 196, 265: 197, 266: 198, 270: 199, 272: 200, 397: 201, 398: 202, 399: 203, 401: 204, 404: 205, 406: 206, 407: 207, 408: 208, 409: 209, 436: 210, 437: 211, 442: 212, 444: 213, 445: 214, 446: 215, 447: 216, 448: 217, 449: 218, 454: 219, 462: 220, 463: 221, 469: 222, 470: 223, 471: 224, 475: 225, 478: 226, 555: 227, 562: 228, 1000: 229}\n"
          ],
          "name": "stdout"
        }
      ]
    },
    {
      "cell_type": "code",
      "metadata": {
        "id": "6efMlPWgqTgm"
      },
      "source": [
        "tokped2[\"sold_cat\"] = tokped2[\"sold\"].cat.codes"
      ],
      "execution_count": null,
      "outputs": []
    },
    {
      "cell_type": "markdown",
      "metadata": {
        "id": "1vb38jYPfs1T"
      },
      "source": [
        "#### Kolom `type`"
      ]
    },
    {
      "cell_type": "code",
      "metadata": {
        "id": "xdUNYDCspXL5"
      },
      "source": [
        "tokped2[\"type\"] = tokped2[\"type\"].astype('category')"
      ],
      "execution_count": null,
      "outputs": []
    },
    {
      "cell_type": "code",
      "metadata": {
        "colab": {
          "base_uri": "https://localhost:8080/"
        },
        "id": "PlttB2iXhxUj",
        "outputId": "1284c934-4fd6-499b-99b7-ccb7e4baff22"
      },
      "source": [
        "le.fit(tokped['type'])\n",
        "le_type = dict(zip(le.classes_, le.transform(le.classes_)))\n",
        "print(le_type)"
      ],
      "execution_count": null,
      "outputs": [
        {
          "output_type": "stream",
          "text": [
            "{'11': 0, '14': 1, '15': 2, '240': 3, '245': 4, 'Alpha': 5, 'Aspire': 6, 'Blade': 7, 'Bravo': 8, 'Dynabook': 9, 'Elitebook': 10, 'Envy': 11, 'G5': 12, 'GF63': 13, 'GF65': 14, 'GL65': 15, 'GPD Win': 16, 'Ideapad': 17, 'Inspiron': 18, 'Latitude': 19, 'Legion': 20, 'Lifebook': 21, 'Macbook Air': 22, 'Macbook Pro': 23, 'Matebook': 24, 'Mi Gaming': 25, 'Modern': 26, 'Nitro': 27, 'Omen': 28, 'Pavilion': 29, 'Portege': 30, 'Precision': 31, 'Predator': 32, 'Prestige': 33, 'Probook': 34, 'ROG': 35, 'Spectre': 36, 'Swift': 37, 'TUF': 38, 'Thinkbook': 39, 'Thinkpad': 40, 'TravelMate': 41, 'V14': 42, 'V15': 43, 'Vivobook': 44, 'Vostro': 45, 'XPS': 46, 'Yoga': 47, 'Zenbook': 48}\n"
          ],
          "name": "stdout"
        }
      ]
    },
    {
      "cell_type": "code",
      "metadata": {
        "id": "vMiHQzZ5qaqW"
      },
      "source": [
        "tokped2[\"type_cat\"] = tokped2[\"type\"].cat.codes"
      ],
      "execution_count": null,
      "outputs": []
    },
    {
      "cell_type": "markdown",
      "metadata": {
        "id": "qfpTHp2ifxor"
      },
      "source": [
        "#### Kolom `merk`"
      ]
    },
    {
      "cell_type": "code",
      "metadata": {
        "id": "Xmz4PFclpYai"
      },
      "source": [
        "tokped2[\"merk\"] = tokped2[\"merk\"].astype('category')"
      ],
      "execution_count": null,
      "outputs": []
    },
    {
      "cell_type": "code",
      "metadata": {
        "colab": {
          "base_uri": "https://localhost:8080/"
        },
        "id": "m1CydLswiDBg",
        "outputId": "37dfede9-1a62-40f7-c414-e0bcaf0ed931"
      },
      "source": [
        "le.fit(tokped['merk'])\n",
        "le_merk = dict(zip(le.classes_, le.transform(le.classes_)))\n",
        "print(le_merk)"
      ],
      "execution_count": null,
      "outputs": [
        {
          "output_type": "stream",
          "text": [
            "{'Acer': 0, 'Apple': 1, 'Asus': 2, 'Dell': 3, 'Fujitsu': 4, 'GPD': 5, 'HP': 6, 'Huawei': 7, 'Lenovo': 8, 'MSI': 9, 'Razer': 10, 'Toshiba': 11, 'Xiaomi': 12}\n"
          ],
          "name": "stdout"
        }
      ]
    },
    {
      "cell_type": "code",
      "metadata": {
        "id": "p38VCimqqbi7"
      },
      "source": [
        "tokped2[\"merk_cat\"] = tokped2[\"merk\"].cat.codes"
      ],
      "execution_count": null,
      "outputs": []
    },
    {
      "cell_type": "markdown",
      "metadata": {
        "id": "DU33tK_lfz6f"
      },
      "source": [
        "#### Kolom `prosesor`"
      ]
    },
    {
      "cell_type": "code",
      "metadata": {
        "id": "dIv2SlAKpY1l"
      },
      "source": [
        "tokped2[\"prosesor\"] = tokped2[\"prosesor\"].astype('category')"
      ],
      "execution_count": null,
      "outputs": []
    },
    {
      "cell_type": "code",
      "metadata": {
        "colab": {
          "base_uri": "https://localhost:8080/"
        },
        "id": "BG4hmLVSiLH1",
        "outputId": "a5d74838-130d-47c4-fd6e-61682a85398a"
      },
      "source": [
        "le.fit(tokped['prosesor'])\n",
        "le_prosesor = dict(zip(le.classes_, le.transform(le.classes_)))\n",
        "print(le_prosesor)"
      ],
      "execution_count": null,
      "outputs": [
        {
          "output_type": "stream",
          "text": [
            "{'AMD 3020': 0, 'AMD 3050': 1, 'AMD A10': 2, 'AMD A12': 3, 'AMD A4': 4, 'AMD A6': 5, 'AMD A8': 6, 'AMD A9': 7, 'AMD E2': 8, 'AMD Ryzen 3': 9, 'AMD Ryzen 5': 10, 'AMD Ryzen 7': 11, 'AMD Ryzen 9': 12, 'Intel Athlon': 13, 'Intel Celeron': 14, 'Intel Core M3': 15, 'Intel Core M5': 16, 'Intel Core i3': 17, 'Intel Core i5': 18, 'Intel Core i7': 19, 'Intel Core i9': 20, 'Intel Dual Core': 21, 'Intel Pentium Gold': 22, 'Intel Pentium Silver': 23, 'Intel Quad Core': 24}\n"
          ],
          "name": "stdout"
        }
      ]
    },
    {
      "cell_type": "code",
      "metadata": {
        "id": "bm7O0mKcqb1f"
      },
      "source": [
        "tokped2[\"prosesor_cat\"] = tokped2[\"prosesor\"].cat.codes"
      ],
      "execution_count": null,
      "outputs": []
    },
    {
      "cell_type": "markdown",
      "metadata": {
        "id": "PsaAfn84f2Sl"
      },
      "source": [
        "#### Kolom `memory_size`"
      ]
    },
    {
      "cell_type": "code",
      "metadata": {
        "id": "LgQDWakXpZPU"
      },
      "source": [
        "tokped2[\"memory_size\"] = tokped2[\"memory_size\"].astype('category')"
      ],
      "execution_count": null,
      "outputs": []
    },
    {
      "cell_type": "code",
      "metadata": {
        "id": "60pL0X0j6cFW"
      },
      "source": [
        "tokped2['mem_size_cat'] = tokped2['memory_size'].map({'2 GB': 0, '4 GB': 1, '6 GB': 2, '8 GB': 3, '12 GB': 4, '16 GB': 5, '20 GB': 6, '32 GB':7})"
      ],
      "execution_count": null,
      "outputs": []
    },
    {
      "cell_type": "markdown",
      "metadata": {
        "id": "tE2MRD0DgHDP"
      },
      "source": [
        "#### Kolom `disk_size`"
      ]
    },
    {
      "cell_type": "code",
      "metadata": {
        "id": "9ZVf9zlXpk2F"
      },
      "source": [
        "tokped2[\"disk_size\"] = tokped2[\"disk_size\"].astype('category')"
      ],
      "execution_count": null,
      "outputs": []
    },
    {
      "cell_type": "code",
      "metadata": {
        "id": "5KLEN_Gzqjv2"
      },
      "source": [
        "tokped2['disk_size_cat'] = tokped2['disk_size'].map({'120 GB': 0, '128 TB': 1, '180 GB': 2, '240 GB': 3, '250 GB': 4, '256 GB': 5, '320 TB': 6, '500 GB': 7,\n",
        "       '512 GB': 8, '750 GB': 9, '1 TB': 10, '2 TB': 11})"
      ],
      "execution_count": null,
      "outputs": []
    },
    {
      "cell_type": "markdown",
      "metadata": {
        "id": "Z0WA4d3WrGM5"
      },
      "source": [
        "### Buang kolom yang tidak perlu"
      ]
    },
    {
      "cell_type": "code",
      "metadata": {
        "colab": {
          "base_uri": "https://localhost:8080/",
          "height": 592
        },
        "id": "g6VPtSHw84zE",
        "outputId": "fa8d46df-bdc5-4304-d84d-eabf6ee2c55e"
      },
      "source": [
        "tokped2"
      ],
      "execution_count": null,
      "outputs": [
        {
          "output_type": "execute_result",
          "data": {
            "text/html": [
              "<div>\n",
              "<style scoped>\n",
              "    .dataframe tbody tr th:only-of-type {\n",
              "        vertical-align: middle;\n",
              "    }\n",
              "\n",
              "    .dataframe tbody tr th {\n",
              "        vertical-align: top;\n",
              "    }\n",
              "\n",
              "    .dataframe thead th {\n",
              "        text-align: right;\n",
              "    }\n",
              "</style>\n",
              "<table border=\"1\" class=\"dataframe\">\n",
              "  <thead>\n",
              "    <tr style=\"text-align: right;\">\n",
              "      <th></th>\n",
              "      <th>price</th>\n",
              "      <th>location</th>\n",
              "      <th>sold</th>\n",
              "      <th>type</th>\n",
              "      <th>merk</th>\n",
              "      <th>prosesor</th>\n",
              "      <th>memory_size</th>\n",
              "      <th>disk_size</th>\n",
              "      <th>location_cat</th>\n",
              "      <th>sold_cat</th>\n",
              "      <th>type_cat</th>\n",
              "      <th>merk_cat</th>\n",
              "      <th>prosesor_cat</th>\n",
              "      <th>mem_size_cat</th>\n",
              "      <th>disk_size_cat</th>\n",
              "    </tr>\n",
              "  </thead>\n",
              "  <tbody>\n",
              "    <tr>\n",
              "      <th>0</th>\n",
              "      <td>4499000</td>\n",
              "      <td>Jakarta Barat</td>\n",
              "      <td>1</td>\n",
              "      <td>Aspire</td>\n",
              "      <td>Acer</td>\n",
              "      <td>Intel Celeron</td>\n",
              "      <td>6 GB</td>\n",
              "      <td>256 GB</td>\n",
              "      <td>12</td>\n",
              "      <td>0</td>\n",
              "      <td>6</td>\n",
              "      <td>0</td>\n",
              "      <td>14</td>\n",
              "      <td>2</td>\n",
              "      <td>5.0</td>\n",
              "    </tr>\n",
              "    <tr>\n",
              "      <th>1</th>\n",
              "      <td>3883450</td>\n",
              "      <td>Surabaya</td>\n",
              "      <td>3</td>\n",
              "      <td>Aspire</td>\n",
              "      <td>Acer</td>\n",
              "      <td>AMD A4</td>\n",
              "      <td>4 GB</td>\n",
              "      <td>1 TB</td>\n",
              "      <td>60</td>\n",
              "      <td>2</td>\n",
              "      <td>6</td>\n",
              "      <td>0</td>\n",
              "      <td>4</td>\n",
              "      <td>1</td>\n",
              "      <td>10.0</td>\n",
              "    </tr>\n",
              "    <tr>\n",
              "      <th>2</th>\n",
              "      <td>3599000</td>\n",
              "      <td>Jakarta Pusat</td>\n",
              "      <td>2</td>\n",
              "      <td>Aspire</td>\n",
              "      <td>Acer</td>\n",
              "      <td>AMD A4</td>\n",
              "      <td>4 GB</td>\n",
              "      <td>1 TB</td>\n",
              "      <td>13</td>\n",
              "      <td>1</td>\n",
              "      <td>6</td>\n",
              "      <td>0</td>\n",
              "      <td>4</td>\n",
              "      <td>1</td>\n",
              "      <td>10.0</td>\n",
              "    </tr>\n",
              "    <tr>\n",
              "      <th>3</th>\n",
              "      <td>7499900</td>\n",
              "      <td>Jakarta Pusat</td>\n",
              "      <td>3</td>\n",
              "      <td>Aspire</td>\n",
              "      <td>Acer</td>\n",
              "      <td>Intel Core i3</td>\n",
              "      <td>8 GB</td>\n",
              "      <td>1 TB</td>\n",
              "      <td>13</td>\n",
              "      <td>2</td>\n",
              "      <td>6</td>\n",
              "      <td>0</td>\n",
              "      <td>17</td>\n",
              "      <td>3</td>\n",
              "      <td>10.0</td>\n",
              "    </tr>\n",
              "    <tr>\n",
              "      <th>4</th>\n",
              "      <td>3799000</td>\n",
              "      <td>Jakarta Pusat</td>\n",
              "      <td>118</td>\n",
              "      <td>Aspire</td>\n",
              "      <td>Acer</td>\n",
              "      <td>Intel Celeron</td>\n",
              "      <td>4 GB</td>\n",
              "      <td>1 TB</td>\n",
              "      <td>13</td>\n",
              "      <td>112</td>\n",
              "      <td>6</td>\n",
              "      <td>0</td>\n",
              "      <td>14</td>\n",
              "      <td>1</td>\n",
              "      <td>10.0</td>\n",
              "    </tr>\n",
              "    <tr>\n",
              "      <th>...</th>\n",
              "      <td>...</td>\n",
              "      <td>...</td>\n",
              "      <td>...</td>\n",
              "      <td>...</td>\n",
              "      <td>...</td>\n",
              "      <td>...</td>\n",
              "      <td>...</td>\n",
              "      <td>...</td>\n",
              "      <td>...</td>\n",
              "      <td>...</td>\n",
              "      <td>...</td>\n",
              "      <td>...</td>\n",
              "      <td>...</td>\n",
              "      <td>...</td>\n",
              "      <td>...</td>\n",
              "    </tr>\n",
              "    <tr>\n",
              "      <th>119054</th>\n",
              "      <td>11999000</td>\n",
              "      <td>Jakarta Barat</td>\n",
              "      <td>1</td>\n",
              "      <td>Vivobook</td>\n",
              "      <td>Asus</td>\n",
              "      <td>AMD Ryzen 5</td>\n",
              "      <td>12 GB</td>\n",
              "      <td>512 GB</td>\n",
              "      <td>12</td>\n",
              "      <td>0</td>\n",
              "      <td>44</td>\n",
              "      <td>2</td>\n",
              "      <td>10</td>\n",
              "      <td>4</td>\n",
              "      <td>8.0</td>\n",
              "    </tr>\n",
              "    <tr>\n",
              "      <th>119055</th>\n",
              "      <td>12400000</td>\n",
              "      <td>Jakarta Utara</td>\n",
              "      <td>2</td>\n",
              "      <td>Vivobook</td>\n",
              "      <td>Asus</td>\n",
              "      <td>Intel Core i5</td>\n",
              "      <td>12 GB</td>\n",
              "      <td>512 GB</td>\n",
              "      <td>16</td>\n",
              "      <td>1</td>\n",
              "      <td>44</td>\n",
              "      <td>2</td>\n",
              "      <td>18</td>\n",
              "      <td>4</td>\n",
              "      <td>8.0</td>\n",
              "    </tr>\n",
              "    <tr>\n",
              "      <th>119056</th>\n",
              "      <td>5799000</td>\n",
              "      <td>Bandung</td>\n",
              "      <td>1</td>\n",
              "      <td>Vivobook</td>\n",
              "      <td>Asus</td>\n",
              "      <td>Intel Celeron</td>\n",
              "      <td>6 GB</td>\n",
              "      <td>256 GB</td>\n",
              "      <td>2</td>\n",
              "      <td>0</td>\n",
              "      <td>44</td>\n",
              "      <td>2</td>\n",
              "      <td>14</td>\n",
              "      <td>2</td>\n",
              "      <td>5.0</td>\n",
              "    </tr>\n",
              "    <tr>\n",
              "      <th>119057</th>\n",
              "      <td>9800000</td>\n",
              "      <td>Kab. Bekasi</td>\n",
              "      <td>7</td>\n",
              "      <td>Vivobook</td>\n",
              "      <td>Asus</td>\n",
              "      <td>Intel Core i5</td>\n",
              "      <td>6 GB</td>\n",
              "      <td>256 GB</td>\n",
              "      <td>24</td>\n",
              "      <td>6</td>\n",
              "      <td>44</td>\n",
              "      <td>2</td>\n",
              "      <td>18</td>\n",
              "      <td>2</td>\n",
              "      <td>5.0</td>\n",
              "    </tr>\n",
              "    <tr>\n",
              "      <th>119058</th>\n",
              "      <td>13899000</td>\n",
              "      <td>Jakarta Barat</td>\n",
              "      <td>1</td>\n",
              "      <td>Vivobook</td>\n",
              "      <td>Asus</td>\n",
              "      <td>Intel Core i7</td>\n",
              "      <td>12 GB</td>\n",
              "      <td>512 GB</td>\n",
              "      <td>12</td>\n",
              "      <td>0</td>\n",
              "      <td>44</td>\n",
              "      <td>2</td>\n",
              "      <td>19</td>\n",
              "      <td>4</td>\n",
              "      <td>8.0</td>\n",
              "    </tr>\n",
              "  </tbody>\n",
              "</table>\n",
              "<p>119059 rows × 15 columns</p>\n",
              "</div>"
            ],
            "text/plain": [
              "           price       location sold  ... prosesor_cat mem_size_cat disk_size_cat\n",
              "0        4499000  Jakarta Barat    1  ...           14            2           5.0\n",
              "1        3883450       Surabaya    3  ...            4            1          10.0\n",
              "2        3599000  Jakarta Pusat    2  ...            4            1          10.0\n",
              "3        7499900  Jakarta Pusat    3  ...           17            3          10.0\n",
              "4        3799000  Jakarta Pusat  118  ...           14            1          10.0\n",
              "...          ...            ...  ...  ...          ...          ...           ...\n",
              "119054  11999000  Jakarta Barat    1  ...           10            4           8.0\n",
              "119055  12400000  Jakarta Utara    2  ...           18            4           8.0\n",
              "119056   5799000        Bandung    1  ...           14            2           5.0\n",
              "119057   9800000    Kab. Bekasi    7  ...           18            2           5.0\n",
              "119058  13899000  Jakarta Barat    1  ...           19            4           8.0\n",
              "\n",
              "[119059 rows x 15 columns]"
            ]
          },
          "metadata": {
            "tags": []
          },
          "execution_count": 99
        }
      ]
    },
    {
      "cell_type": "markdown",
      "metadata": {
        "id": "asGvG0pMqzDl"
      },
      "source": [
        "Membuang kolom-kolom yang tidak dilabel encoding"
      ]
    },
    {
      "cell_type": "code",
      "metadata": {
        "colab": {
          "base_uri": "https://localhost:8080/",
          "height": 419
        },
        "id": "4b37kyHiq5QB",
        "outputId": "7bfd89c9-4270-436b-f3fa-f05c8568e07b"
      },
      "source": [
        "tokped3 = tokped2.drop(['location','sold','type','merk','prosesor','memory_size','disk_size'], axis=1)\n",
        "tokped3"
      ],
      "execution_count": null,
      "outputs": [
        {
          "output_type": "execute_result",
          "data": {
            "text/html": [
              "<div>\n",
              "<style scoped>\n",
              "    .dataframe tbody tr th:only-of-type {\n",
              "        vertical-align: middle;\n",
              "    }\n",
              "\n",
              "    .dataframe tbody tr th {\n",
              "        vertical-align: top;\n",
              "    }\n",
              "\n",
              "    .dataframe thead th {\n",
              "        text-align: right;\n",
              "    }\n",
              "</style>\n",
              "<table border=\"1\" class=\"dataframe\">\n",
              "  <thead>\n",
              "    <tr style=\"text-align: right;\">\n",
              "      <th></th>\n",
              "      <th>price</th>\n",
              "      <th>location_cat</th>\n",
              "      <th>sold_cat</th>\n",
              "      <th>type_cat</th>\n",
              "      <th>merk_cat</th>\n",
              "      <th>prosesor_cat</th>\n",
              "      <th>mem_size_cat</th>\n",
              "      <th>disk_size_cat</th>\n",
              "    </tr>\n",
              "  </thead>\n",
              "  <tbody>\n",
              "    <tr>\n",
              "      <th>0</th>\n",
              "      <td>4499000</td>\n",
              "      <td>12</td>\n",
              "      <td>0</td>\n",
              "      <td>6</td>\n",
              "      <td>0</td>\n",
              "      <td>14</td>\n",
              "      <td>2</td>\n",
              "      <td>5.0</td>\n",
              "    </tr>\n",
              "    <tr>\n",
              "      <th>1</th>\n",
              "      <td>3883450</td>\n",
              "      <td>60</td>\n",
              "      <td>2</td>\n",
              "      <td>6</td>\n",
              "      <td>0</td>\n",
              "      <td>4</td>\n",
              "      <td>1</td>\n",
              "      <td>10.0</td>\n",
              "    </tr>\n",
              "    <tr>\n",
              "      <th>2</th>\n",
              "      <td>3599000</td>\n",
              "      <td>13</td>\n",
              "      <td>1</td>\n",
              "      <td>6</td>\n",
              "      <td>0</td>\n",
              "      <td>4</td>\n",
              "      <td>1</td>\n",
              "      <td>10.0</td>\n",
              "    </tr>\n",
              "    <tr>\n",
              "      <th>3</th>\n",
              "      <td>7499900</td>\n",
              "      <td>13</td>\n",
              "      <td>2</td>\n",
              "      <td>6</td>\n",
              "      <td>0</td>\n",
              "      <td>17</td>\n",
              "      <td>3</td>\n",
              "      <td>10.0</td>\n",
              "    </tr>\n",
              "    <tr>\n",
              "      <th>4</th>\n",
              "      <td>3799000</td>\n",
              "      <td>13</td>\n",
              "      <td>112</td>\n",
              "      <td>6</td>\n",
              "      <td>0</td>\n",
              "      <td>14</td>\n",
              "      <td>1</td>\n",
              "      <td>10.0</td>\n",
              "    </tr>\n",
              "    <tr>\n",
              "      <th>...</th>\n",
              "      <td>...</td>\n",
              "      <td>...</td>\n",
              "      <td>...</td>\n",
              "      <td>...</td>\n",
              "      <td>...</td>\n",
              "      <td>...</td>\n",
              "      <td>...</td>\n",
              "      <td>...</td>\n",
              "    </tr>\n",
              "    <tr>\n",
              "      <th>119054</th>\n",
              "      <td>11999000</td>\n",
              "      <td>12</td>\n",
              "      <td>0</td>\n",
              "      <td>44</td>\n",
              "      <td>2</td>\n",
              "      <td>10</td>\n",
              "      <td>4</td>\n",
              "      <td>8.0</td>\n",
              "    </tr>\n",
              "    <tr>\n",
              "      <th>119055</th>\n",
              "      <td>12400000</td>\n",
              "      <td>16</td>\n",
              "      <td>1</td>\n",
              "      <td>44</td>\n",
              "      <td>2</td>\n",
              "      <td>18</td>\n",
              "      <td>4</td>\n",
              "      <td>8.0</td>\n",
              "    </tr>\n",
              "    <tr>\n",
              "      <th>119056</th>\n",
              "      <td>5799000</td>\n",
              "      <td>2</td>\n",
              "      <td>0</td>\n",
              "      <td>44</td>\n",
              "      <td>2</td>\n",
              "      <td>14</td>\n",
              "      <td>2</td>\n",
              "      <td>5.0</td>\n",
              "    </tr>\n",
              "    <tr>\n",
              "      <th>119057</th>\n",
              "      <td>9800000</td>\n",
              "      <td>24</td>\n",
              "      <td>6</td>\n",
              "      <td>44</td>\n",
              "      <td>2</td>\n",
              "      <td>18</td>\n",
              "      <td>2</td>\n",
              "      <td>5.0</td>\n",
              "    </tr>\n",
              "    <tr>\n",
              "      <th>119058</th>\n",
              "      <td>13899000</td>\n",
              "      <td>12</td>\n",
              "      <td>0</td>\n",
              "      <td>44</td>\n",
              "      <td>2</td>\n",
              "      <td>19</td>\n",
              "      <td>4</td>\n",
              "      <td>8.0</td>\n",
              "    </tr>\n",
              "  </tbody>\n",
              "</table>\n",
              "<p>119059 rows × 8 columns</p>\n",
              "</div>"
            ],
            "text/plain": [
              "           price  location_cat  ...  mem_size_cat  disk_size_cat\n",
              "0        4499000            12  ...             2            5.0\n",
              "1        3883450            60  ...             1           10.0\n",
              "2        3599000            13  ...             1           10.0\n",
              "3        7499900            13  ...             3           10.0\n",
              "4        3799000            13  ...             1           10.0\n",
              "...          ...           ...  ...           ...            ...\n",
              "119054  11999000            12  ...             4            8.0\n",
              "119055  12400000            16  ...             4            8.0\n",
              "119056   5799000             2  ...             2            5.0\n",
              "119057   9800000            24  ...             2            5.0\n",
              "119058  13899000            12  ...             4            8.0\n",
              "\n",
              "[119059 rows x 8 columns]"
            ]
          },
          "metadata": {
            "tags": []
          },
          "execution_count": 100
        }
      ]
    },
    {
      "cell_type": "code",
      "metadata": {
        "colab": {
          "base_uri": "https://localhost:8080/"
        },
        "id": "TIeWGvLB9IBC",
        "outputId": "7da3bc1f-fe7f-4a9c-8637-63bc6bb32fdc"
      },
      "source": [
        "#tokped3['disk_size_cat'] = tokped3['disk_size_cat'].astype(int)\n",
        "tokped3.info()"
      ],
      "execution_count": null,
      "outputs": [
        {
          "output_type": "stream",
          "text": [
            "<class 'pandas.core.frame.DataFrame'>\n",
            "RangeIndex: 119059 entries, 0 to 119058\n",
            "Data columns (total 8 columns):\n",
            " #   Column         Non-Null Count   Dtype   \n",
            "---  ------         --------------   -----   \n",
            " 0   price          119059 non-null  int64   \n",
            " 1   location_cat   119059 non-null  int8    \n",
            " 2   sold_cat       119059 non-null  int16   \n",
            " 3   type_cat       119059 non-null  int8    \n",
            " 4   merk_cat       119059 non-null  int8    \n",
            " 5   prosesor_cat   119059 non-null  int8    \n",
            " 6   mem_size_cat   119059 non-null  category\n",
            " 7   disk_size_cat  117767 non-null  float64 \n",
            "dtypes: category(1), float64(1), int16(1), int64(1), int8(4)\n",
            "memory usage: 2.6 MB\n"
          ],
          "name": "stdout"
        }
      ]
    },
    {
      "cell_type": "markdown",
      "metadata": {
        "id": "6vinu8p2lVoh"
      },
      "source": [
        "Ada value yang null atau nan pada kolom `disk_size_cat`. Perlu direplace dengan nilai lain agar bisa diubah menjadi integer."
      ]
    },
    {
      "cell_type": "code",
      "metadata": {
        "colab": {
          "base_uri": "https://localhost:8080/"
        },
        "id": "w9R35fsB_XX0",
        "outputId": "97bb4347-549f-4887-9c98-5335ab748523"
      },
      "source": [
        "tokped3['disk_size_cat'].isnull().values.any()"
      ],
      "execution_count": null,
      "outputs": [
        {
          "output_type": "execute_result",
          "data": {
            "text/plain": [
              "True"
            ]
          },
          "metadata": {
            "tags": []
          },
          "execution_count": 102
        }
      ]
    },
    {
      "cell_type": "code",
      "metadata": {
        "colab": {
          "base_uri": "https://localhost:8080/"
        },
        "id": "cr3FNcM-AJu-",
        "outputId": "ce945066-09bc-4f8b-c546-d5aa60dceb29"
      },
      "source": [
        "tokped3['disk_size_cat'].isnull().sum()"
      ],
      "execution_count": null,
      "outputs": [
        {
          "output_type": "execute_result",
          "data": {
            "text/plain": [
              "1292"
            ]
          },
          "metadata": {
            "tags": []
          },
          "execution_count": 103
        }
      ]
    },
    {
      "cell_type": "code",
      "metadata": {
        "id": "vbSljcOgAjOr"
      },
      "source": [
        "tokped3['disk_size_cat'] = tokped3['disk_size_cat'].fillna(12)"
      ],
      "execution_count": null,
      "outputs": []
    },
    {
      "cell_type": "code",
      "metadata": {
        "id": "wcDznyXA-JUt"
      },
      "source": [
        "tokped3['disk_size_cat'] = tokped3['disk_size_cat'].astype(int)"
      ],
      "execution_count": null,
      "outputs": []
    },
    {
      "cell_type": "code",
      "metadata": {
        "colab": {
          "base_uri": "https://localhost:8080/",
          "height": 419
        },
        "id": "BKv-bssfAxV1",
        "outputId": "287f7d80-2898-468d-a0ac-791bd83df1d9"
      },
      "source": [
        "tokped3"
      ],
      "execution_count": null,
      "outputs": [
        {
          "output_type": "execute_result",
          "data": {
            "text/html": [
              "<div>\n",
              "<style scoped>\n",
              "    .dataframe tbody tr th:only-of-type {\n",
              "        vertical-align: middle;\n",
              "    }\n",
              "\n",
              "    .dataframe tbody tr th {\n",
              "        vertical-align: top;\n",
              "    }\n",
              "\n",
              "    .dataframe thead th {\n",
              "        text-align: right;\n",
              "    }\n",
              "</style>\n",
              "<table border=\"1\" class=\"dataframe\">\n",
              "  <thead>\n",
              "    <tr style=\"text-align: right;\">\n",
              "      <th></th>\n",
              "      <th>price</th>\n",
              "      <th>location_cat</th>\n",
              "      <th>sold_cat</th>\n",
              "      <th>type_cat</th>\n",
              "      <th>merk_cat</th>\n",
              "      <th>prosesor_cat</th>\n",
              "      <th>mem_size_cat</th>\n",
              "      <th>disk_size_cat</th>\n",
              "    </tr>\n",
              "  </thead>\n",
              "  <tbody>\n",
              "    <tr>\n",
              "      <th>0</th>\n",
              "      <td>4499000</td>\n",
              "      <td>12</td>\n",
              "      <td>0</td>\n",
              "      <td>6</td>\n",
              "      <td>0</td>\n",
              "      <td>14</td>\n",
              "      <td>2</td>\n",
              "      <td>5</td>\n",
              "    </tr>\n",
              "    <tr>\n",
              "      <th>1</th>\n",
              "      <td>3883450</td>\n",
              "      <td>60</td>\n",
              "      <td>2</td>\n",
              "      <td>6</td>\n",
              "      <td>0</td>\n",
              "      <td>4</td>\n",
              "      <td>1</td>\n",
              "      <td>10</td>\n",
              "    </tr>\n",
              "    <tr>\n",
              "      <th>2</th>\n",
              "      <td>3599000</td>\n",
              "      <td>13</td>\n",
              "      <td>1</td>\n",
              "      <td>6</td>\n",
              "      <td>0</td>\n",
              "      <td>4</td>\n",
              "      <td>1</td>\n",
              "      <td>10</td>\n",
              "    </tr>\n",
              "    <tr>\n",
              "      <th>3</th>\n",
              "      <td>7499900</td>\n",
              "      <td>13</td>\n",
              "      <td>2</td>\n",
              "      <td>6</td>\n",
              "      <td>0</td>\n",
              "      <td>17</td>\n",
              "      <td>3</td>\n",
              "      <td>10</td>\n",
              "    </tr>\n",
              "    <tr>\n",
              "      <th>4</th>\n",
              "      <td>3799000</td>\n",
              "      <td>13</td>\n",
              "      <td>112</td>\n",
              "      <td>6</td>\n",
              "      <td>0</td>\n",
              "      <td>14</td>\n",
              "      <td>1</td>\n",
              "      <td>10</td>\n",
              "    </tr>\n",
              "    <tr>\n",
              "      <th>...</th>\n",
              "      <td>...</td>\n",
              "      <td>...</td>\n",
              "      <td>...</td>\n",
              "      <td>...</td>\n",
              "      <td>...</td>\n",
              "      <td>...</td>\n",
              "      <td>...</td>\n",
              "      <td>...</td>\n",
              "    </tr>\n",
              "    <tr>\n",
              "      <th>119054</th>\n",
              "      <td>11999000</td>\n",
              "      <td>12</td>\n",
              "      <td>0</td>\n",
              "      <td>44</td>\n",
              "      <td>2</td>\n",
              "      <td>10</td>\n",
              "      <td>4</td>\n",
              "      <td>8</td>\n",
              "    </tr>\n",
              "    <tr>\n",
              "      <th>119055</th>\n",
              "      <td>12400000</td>\n",
              "      <td>16</td>\n",
              "      <td>1</td>\n",
              "      <td>44</td>\n",
              "      <td>2</td>\n",
              "      <td>18</td>\n",
              "      <td>4</td>\n",
              "      <td>8</td>\n",
              "    </tr>\n",
              "    <tr>\n",
              "      <th>119056</th>\n",
              "      <td>5799000</td>\n",
              "      <td>2</td>\n",
              "      <td>0</td>\n",
              "      <td>44</td>\n",
              "      <td>2</td>\n",
              "      <td>14</td>\n",
              "      <td>2</td>\n",
              "      <td>5</td>\n",
              "    </tr>\n",
              "    <tr>\n",
              "      <th>119057</th>\n",
              "      <td>9800000</td>\n",
              "      <td>24</td>\n",
              "      <td>6</td>\n",
              "      <td>44</td>\n",
              "      <td>2</td>\n",
              "      <td>18</td>\n",
              "      <td>2</td>\n",
              "      <td>5</td>\n",
              "    </tr>\n",
              "    <tr>\n",
              "      <th>119058</th>\n",
              "      <td>13899000</td>\n",
              "      <td>12</td>\n",
              "      <td>0</td>\n",
              "      <td>44</td>\n",
              "      <td>2</td>\n",
              "      <td>19</td>\n",
              "      <td>4</td>\n",
              "      <td>8</td>\n",
              "    </tr>\n",
              "  </tbody>\n",
              "</table>\n",
              "<p>119059 rows × 8 columns</p>\n",
              "</div>"
            ],
            "text/plain": [
              "           price  location_cat  ...  mem_size_cat  disk_size_cat\n",
              "0        4499000            12  ...             2              5\n",
              "1        3883450            60  ...             1             10\n",
              "2        3599000            13  ...             1             10\n",
              "3        7499900            13  ...             3             10\n",
              "4        3799000            13  ...             1             10\n",
              "...          ...           ...  ...           ...            ...\n",
              "119054  11999000            12  ...             4              8\n",
              "119055  12400000            16  ...             4              8\n",
              "119056   5799000             2  ...             2              5\n",
              "119057   9800000            24  ...             2              5\n",
              "119058  13899000            12  ...             4              8\n",
              "\n",
              "[119059 rows x 8 columns]"
            ]
          },
          "metadata": {
            "tags": []
          },
          "execution_count": 106
        }
      ]
    },
    {
      "cell_type": "markdown",
      "metadata": {
        "id": "091FfBjIli3x"
      },
      "source": [
        "Mengkonversi nilai pada `price` ke dalam bentuk kategori rentang nilai."
      ]
    },
    {
      "cell_type": "code",
      "metadata": {
        "id": "LzVz12LlwdIp"
      },
      "source": [
        "criteria = [tokped3['price'].between(2199000, 7354600),\n",
        "            tokped3['price'].between(7354601, 12510200),\n",
        "            tokped3['price'].between(12510201, 17665800),\n",
        "            tokped3['price'].between(17665801, 22821400),\n",
        "            tokped3['price'].between(22821401, 27977000),\n",
        "            tokped3['price'].between(27977001, 33132600),\n",
        "            tokped3['price'].between(33132601, 38288200),\n",
        "            tokped3['price'].between(38288201, 43443800),\n",
        "            tokped3['price'].between(43443801, 48599400),\n",
        "            tokped3['price'].between(48599401, 53755000),\n",
        "            tokped3['price'].between(53755001, 58910600),\n",
        "            tokped3['price'].between(58910601, 64066200),\n",
        "            tokped3['price'].between(64066201, 69221800),\n",
        "            tokped3['price'].between(69221801, 74377400),\n",
        "            tokped3['price'].between(74377401, 79533000),\n",
        "            tokped3['price'].between(79533001, 84688600),\n",
        "            tokped3['price'].between(84688601, 89844200),\n",
        "            tokped3['price'].between(89844201, 94999800)]\n",
        "values = [0, 1, 2, 3, 4, 5, 6, 7, 8, 9, 10, 11, 12, 13, 14, 15, 16, 17]\n",
        "\n",
        "tokped3['price_cat'] = np.select(criteria, values, 0)"
      ],
      "execution_count": null,
      "outputs": []
    },
    {
      "cell_type": "code",
      "metadata": {
        "colab": {
          "base_uri": "https://localhost:8080/",
          "height": 419
        },
        "id": "9MwpHF1D2RWY",
        "outputId": "3db8db2a-d2c9-43c5-e66a-8e10981be8e9"
      },
      "source": [
        "tokped3"
      ],
      "execution_count": null,
      "outputs": [
        {
          "output_type": "execute_result",
          "data": {
            "text/html": [
              "<div>\n",
              "<style scoped>\n",
              "    .dataframe tbody tr th:only-of-type {\n",
              "        vertical-align: middle;\n",
              "    }\n",
              "\n",
              "    .dataframe tbody tr th {\n",
              "        vertical-align: top;\n",
              "    }\n",
              "\n",
              "    .dataframe thead th {\n",
              "        text-align: right;\n",
              "    }\n",
              "</style>\n",
              "<table border=\"1\" class=\"dataframe\">\n",
              "  <thead>\n",
              "    <tr style=\"text-align: right;\">\n",
              "      <th></th>\n",
              "      <th>price</th>\n",
              "      <th>location_cat</th>\n",
              "      <th>sold_cat</th>\n",
              "      <th>type_cat</th>\n",
              "      <th>merk_cat</th>\n",
              "      <th>prosesor_cat</th>\n",
              "      <th>mem_size_cat</th>\n",
              "      <th>disk_size_cat</th>\n",
              "      <th>price_cat</th>\n",
              "    </tr>\n",
              "  </thead>\n",
              "  <tbody>\n",
              "    <tr>\n",
              "      <th>0</th>\n",
              "      <td>4499000</td>\n",
              "      <td>12</td>\n",
              "      <td>0</td>\n",
              "      <td>6</td>\n",
              "      <td>0</td>\n",
              "      <td>14</td>\n",
              "      <td>2</td>\n",
              "      <td>5</td>\n",
              "      <td>0</td>\n",
              "    </tr>\n",
              "    <tr>\n",
              "      <th>1</th>\n",
              "      <td>3883450</td>\n",
              "      <td>60</td>\n",
              "      <td>2</td>\n",
              "      <td>6</td>\n",
              "      <td>0</td>\n",
              "      <td>4</td>\n",
              "      <td>1</td>\n",
              "      <td>10</td>\n",
              "      <td>0</td>\n",
              "    </tr>\n",
              "    <tr>\n",
              "      <th>2</th>\n",
              "      <td>3599000</td>\n",
              "      <td>13</td>\n",
              "      <td>1</td>\n",
              "      <td>6</td>\n",
              "      <td>0</td>\n",
              "      <td>4</td>\n",
              "      <td>1</td>\n",
              "      <td>10</td>\n",
              "      <td>0</td>\n",
              "    </tr>\n",
              "    <tr>\n",
              "      <th>3</th>\n",
              "      <td>7499900</td>\n",
              "      <td>13</td>\n",
              "      <td>2</td>\n",
              "      <td>6</td>\n",
              "      <td>0</td>\n",
              "      <td>17</td>\n",
              "      <td>3</td>\n",
              "      <td>10</td>\n",
              "      <td>1</td>\n",
              "    </tr>\n",
              "    <tr>\n",
              "      <th>4</th>\n",
              "      <td>3799000</td>\n",
              "      <td>13</td>\n",
              "      <td>112</td>\n",
              "      <td>6</td>\n",
              "      <td>0</td>\n",
              "      <td>14</td>\n",
              "      <td>1</td>\n",
              "      <td>10</td>\n",
              "      <td>0</td>\n",
              "    </tr>\n",
              "    <tr>\n",
              "      <th>...</th>\n",
              "      <td>...</td>\n",
              "      <td>...</td>\n",
              "      <td>...</td>\n",
              "      <td>...</td>\n",
              "      <td>...</td>\n",
              "      <td>...</td>\n",
              "      <td>...</td>\n",
              "      <td>...</td>\n",
              "      <td>...</td>\n",
              "    </tr>\n",
              "    <tr>\n",
              "      <th>119054</th>\n",
              "      <td>11999000</td>\n",
              "      <td>12</td>\n",
              "      <td>0</td>\n",
              "      <td>44</td>\n",
              "      <td>2</td>\n",
              "      <td>10</td>\n",
              "      <td>4</td>\n",
              "      <td>8</td>\n",
              "      <td>1</td>\n",
              "    </tr>\n",
              "    <tr>\n",
              "      <th>119055</th>\n",
              "      <td>12400000</td>\n",
              "      <td>16</td>\n",
              "      <td>1</td>\n",
              "      <td>44</td>\n",
              "      <td>2</td>\n",
              "      <td>18</td>\n",
              "      <td>4</td>\n",
              "      <td>8</td>\n",
              "      <td>1</td>\n",
              "    </tr>\n",
              "    <tr>\n",
              "      <th>119056</th>\n",
              "      <td>5799000</td>\n",
              "      <td>2</td>\n",
              "      <td>0</td>\n",
              "      <td>44</td>\n",
              "      <td>2</td>\n",
              "      <td>14</td>\n",
              "      <td>2</td>\n",
              "      <td>5</td>\n",
              "      <td>0</td>\n",
              "    </tr>\n",
              "    <tr>\n",
              "      <th>119057</th>\n",
              "      <td>9800000</td>\n",
              "      <td>24</td>\n",
              "      <td>6</td>\n",
              "      <td>44</td>\n",
              "      <td>2</td>\n",
              "      <td>18</td>\n",
              "      <td>2</td>\n",
              "      <td>5</td>\n",
              "      <td>1</td>\n",
              "    </tr>\n",
              "    <tr>\n",
              "      <th>119058</th>\n",
              "      <td>13899000</td>\n",
              "      <td>12</td>\n",
              "      <td>0</td>\n",
              "      <td>44</td>\n",
              "      <td>2</td>\n",
              "      <td>19</td>\n",
              "      <td>4</td>\n",
              "      <td>8</td>\n",
              "      <td>2</td>\n",
              "    </tr>\n",
              "  </tbody>\n",
              "</table>\n",
              "<p>119059 rows × 9 columns</p>\n",
              "</div>"
            ],
            "text/plain": [
              "           price  location_cat  sold_cat  ...  mem_size_cat  disk_size_cat  price_cat\n",
              "0        4499000            12         0  ...             2              5          0\n",
              "1        3883450            60         2  ...             1             10          0\n",
              "2        3599000            13         1  ...             1             10          0\n",
              "3        7499900            13         2  ...             3             10          1\n",
              "4        3799000            13       112  ...             1             10          0\n",
              "...          ...           ...       ...  ...           ...            ...        ...\n",
              "119054  11999000            12         0  ...             4              8          1\n",
              "119055  12400000            16         1  ...             4              8          1\n",
              "119056   5799000             2         0  ...             2              5          0\n",
              "119057   9800000            24         6  ...             2              5          1\n",
              "119058  13899000            12         0  ...             4              8          2\n",
              "\n",
              "[119059 rows x 9 columns]"
            ]
          },
          "metadata": {
            "tags": []
          },
          "execution_count": 108
        }
      ]
    },
    {
      "cell_type": "code",
      "metadata": {
        "colab": {
          "base_uri": "https://localhost:8080/"
        },
        "id": "kXMvRKuY2e9j",
        "outputId": "eb34dcb1-524f-49bd-fa34-fee3438a0972"
      },
      "source": [
        "tokped3['price_cat'].unique()"
      ],
      "execution_count": null,
      "outputs": [
        {
          "output_type": "execute_result",
          "data": {
            "text/plain": [
              "array([ 0,  1,  2,  3,  4,  7,  5,  9,  6, 10, 17, 12,  8, 13, 11, 16])"
            ]
          },
          "metadata": {
            "tags": []
          },
          "execution_count": 109
        }
      ]
    },
    {
      "cell_type": "markdown",
      "metadata": {
        "id": "7lBC93Cnlvda"
      },
      "source": [
        "Membuang kolom `price` yang lama dan menyisakan kolom `price_cat` yang sudah dalam bentuk kategori"
      ]
    },
    {
      "cell_type": "code",
      "metadata": {
        "colab": {
          "base_uri": "https://localhost:8080/",
          "height": 419
        },
        "id": "iApGL0Sj2xch",
        "outputId": "b4c17047-104e-42ae-ddb0-113924b33c58"
      },
      "source": [
        "tokped4 = tokped3.drop(['price'], axis=1)\n",
        "tokped4"
      ],
      "execution_count": null,
      "outputs": [
        {
          "output_type": "execute_result",
          "data": {
            "text/html": [
              "<div>\n",
              "<style scoped>\n",
              "    .dataframe tbody tr th:only-of-type {\n",
              "        vertical-align: middle;\n",
              "    }\n",
              "\n",
              "    .dataframe tbody tr th {\n",
              "        vertical-align: top;\n",
              "    }\n",
              "\n",
              "    .dataframe thead th {\n",
              "        text-align: right;\n",
              "    }\n",
              "</style>\n",
              "<table border=\"1\" class=\"dataframe\">\n",
              "  <thead>\n",
              "    <tr style=\"text-align: right;\">\n",
              "      <th></th>\n",
              "      <th>location_cat</th>\n",
              "      <th>sold_cat</th>\n",
              "      <th>type_cat</th>\n",
              "      <th>merk_cat</th>\n",
              "      <th>prosesor_cat</th>\n",
              "      <th>mem_size_cat</th>\n",
              "      <th>disk_size_cat</th>\n",
              "      <th>price_cat</th>\n",
              "    </tr>\n",
              "  </thead>\n",
              "  <tbody>\n",
              "    <tr>\n",
              "      <th>0</th>\n",
              "      <td>12</td>\n",
              "      <td>0</td>\n",
              "      <td>6</td>\n",
              "      <td>0</td>\n",
              "      <td>14</td>\n",
              "      <td>2</td>\n",
              "      <td>5</td>\n",
              "      <td>0</td>\n",
              "    </tr>\n",
              "    <tr>\n",
              "      <th>1</th>\n",
              "      <td>60</td>\n",
              "      <td>2</td>\n",
              "      <td>6</td>\n",
              "      <td>0</td>\n",
              "      <td>4</td>\n",
              "      <td>1</td>\n",
              "      <td>10</td>\n",
              "      <td>0</td>\n",
              "    </tr>\n",
              "    <tr>\n",
              "      <th>2</th>\n",
              "      <td>13</td>\n",
              "      <td>1</td>\n",
              "      <td>6</td>\n",
              "      <td>0</td>\n",
              "      <td>4</td>\n",
              "      <td>1</td>\n",
              "      <td>10</td>\n",
              "      <td>0</td>\n",
              "    </tr>\n",
              "    <tr>\n",
              "      <th>3</th>\n",
              "      <td>13</td>\n",
              "      <td>2</td>\n",
              "      <td>6</td>\n",
              "      <td>0</td>\n",
              "      <td>17</td>\n",
              "      <td>3</td>\n",
              "      <td>10</td>\n",
              "      <td>1</td>\n",
              "    </tr>\n",
              "    <tr>\n",
              "      <th>4</th>\n",
              "      <td>13</td>\n",
              "      <td>112</td>\n",
              "      <td>6</td>\n",
              "      <td>0</td>\n",
              "      <td>14</td>\n",
              "      <td>1</td>\n",
              "      <td>10</td>\n",
              "      <td>0</td>\n",
              "    </tr>\n",
              "    <tr>\n",
              "      <th>...</th>\n",
              "      <td>...</td>\n",
              "      <td>...</td>\n",
              "      <td>...</td>\n",
              "      <td>...</td>\n",
              "      <td>...</td>\n",
              "      <td>...</td>\n",
              "      <td>...</td>\n",
              "      <td>...</td>\n",
              "    </tr>\n",
              "    <tr>\n",
              "      <th>119054</th>\n",
              "      <td>12</td>\n",
              "      <td>0</td>\n",
              "      <td>44</td>\n",
              "      <td>2</td>\n",
              "      <td>10</td>\n",
              "      <td>4</td>\n",
              "      <td>8</td>\n",
              "      <td>1</td>\n",
              "    </tr>\n",
              "    <tr>\n",
              "      <th>119055</th>\n",
              "      <td>16</td>\n",
              "      <td>1</td>\n",
              "      <td>44</td>\n",
              "      <td>2</td>\n",
              "      <td>18</td>\n",
              "      <td>4</td>\n",
              "      <td>8</td>\n",
              "      <td>1</td>\n",
              "    </tr>\n",
              "    <tr>\n",
              "      <th>119056</th>\n",
              "      <td>2</td>\n",
              "      <td>0</td>\n",
              "      <td>44</td>\n",
              "      <td>2</td>\n",
              "      <td>14</td>\n",
              "      <td>2</td>\n",
              "      <td>5</td>\n",
              "      <td>0</td>\n",
              "    </tr>\n",
              "    <tr>\n",
              "      <th>119057</th>\n",
              "      <td>24</td>\n",
              "      <td>6</td>\n",
              "      <td>44</td>\n",
              "      <td>2</td>\n",
              "      <td>18</td>\n",
              "      <td>2</td>\n",
              "      <td>5</td>\n",
              "      <td>1</td>\n",
              "    </tr>\n",
              "    <tr>\n",
              "      <th>119058</th>\n",
              "      <td>12</td>\n",
              "      <td>0</td>\n",
              "      <td>44</td>\n",
              "      <td>2</td>\n",
              "      <td>19</td>\n",
              "      <td>4</td>\n",
              "      <td>8</td>\n",
              "      <td>2</td>\n",
              "    </tr>\n",
              "  </tbody>\n",
              "</table>\n",
              "<p>119059 rows × 8 columns</p>\n",
              "</div>"
            ],
            "text/plain": [
              "        location_cat  sold_cat  type_cat  ...  mem_size_cat  disk_size_cat price_cat\n",
              "0                 12         0         6  ...             2              5         0\n",
              "1                 60         2         6  ...             1             10         0\n",
              "2                 13         1         6  ...             1             10         0\n",
              "3                 13         2         6  ...             3             10         1\n",
              "4                 13       112         6  ...             1             10         0\n",
              "...              ...       ...       ...  ...           ...            ...       ...\n",
              "119054            12         0        44  ...             4              8         1\n",
              "119055            16         1        44  ...             4              8         1\n",
              "119056             2         0        44  ...             2              5         0\n",
              "119057            24         6        44  ...             2              5         1\n",
              "119058            12         0        44  ...             4              8         2\n",
              "\n",
              "[119059 rows x 8 columns]"
            ]
          },
          "metadata": {
            "tags": []
          },
          "execution_count": 110
        }
      ]
    },
    {
      "cell_type": "code",
      "metadata": {
        "id": "MxIYzaFu2-0y"
      },
      "source": [
        "tokped4.to_csv('tokped_encode2.csv', encoding='utf-8', index=False)"
      ],
      "execution_count": null,
      "outputs": []
    }
  ]
}