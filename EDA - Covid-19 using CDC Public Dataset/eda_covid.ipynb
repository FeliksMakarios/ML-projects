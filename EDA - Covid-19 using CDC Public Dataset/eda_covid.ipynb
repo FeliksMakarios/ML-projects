{
 "cells": [
  {
   "cell_type": "markdown",
   "metadata": {},
   "source": [
    "# COVID-19 Dataset : EDA & Data Visualization"
   ]
  },
  {
   "cell_type": "markdown",
   "metadata": {},
   "source": [
    "##### Description\n",
    "COVID-19 case surveillance data are collected by US jurisdictions and shared voluntarily with CDC (Centers for Disease Control and Prevention). The deidentified data in the public use dataset include demographic characteristics, exposure history, disease severity indicators and outcomes, clinical data, laboratory diagnostic test results, and comorbidities. All data elements can be found on the COVID-19 case report form located at www.cdc.gov/coronavirus/2019-ncov/downloads/pui-form.pdf.\n",
    "\n",
    "##### Detail of Dataset\n",
    "| Variable | \tDefinition | \tKey |\n",
    "|-----------:|-------------:|-------------:|\n",
    "| cdc_report_dt | Date CDC reported | |\n",
    "| pos_spec_dt | Date of first positive specimen collection | |\n",
    "| onset_dt | Date for symptoms detected onset | |\n",
    "| current_status | Current status of this person | |\n",
    "| sex | Person Gender | Male/Female |\n",
    "| age_group | Age group categories | |\n",
    "| Race and ethnicity | Case Demographic | |\n",
    "| hosp_yn | Was the patient hospitalized? | 0=No, 1=Yes, 2=Missing, 3=Unknown |\n",
    "| icu_yn | Was the patient admitted to an intensive care unit (ICU)? | 0=No, 1=Yes, 2=Missing, 3=Unknown |\n",
    "| death_yn | Did the patien die as a result of this illness? | 0=No, 1=Yes, 2=Missing, 3=Unknown |\n",
    "| medcond_yn | Did they have any underlying medical conditions and/or risk behaviors? | 0=No, 1=Yes, 2=Missing, 3=Unknown |"
   ]
  },
  {
   "cell_type": "markdown",
   "metadata": {},
   "source": [
    "## Exploratory Data Analysis"
   ]
  },
  {
   "cell_type": "markdown",
   "metadata": {},
   "source": [
    "### Import Data"
   ]
  },
  {
   "cell_type": "code",
   "execution_count": 1,
   "metadata": {},
   "outputs": [
    {
     "name": "stdout",
     "output_type": "stream",
     "text": [
      "Matplotlib: 3.2.2\n",
      "pandas: 1.0.5\n",
      "numpy: 1.18.5\n"
     ]
    }
   ],
   "source": [
    "# import library\n",
    "import pandas as pd\n",
    "import numpy as np\n",
    "import matplotlib\n",
    "import matplotlib.pyplot as plt\n",
    "plt.rcParams['agg.path.chunksize'] = 10000\n",
    "\n",
    "import seaborn as sns # visualisasi data\n",
    "\n",
    "%matplotlib inline\n",
    "\n",
    "print(f'Matplotlib: {matplotlib.__version__}')\n",
    "print(f'pandas: {pd.__version__}')\n",
    "print(f'numpy: {np.__version__}')"
   ]
  },
  {
   "cell_type": "code",
   "execution_count": 2,
   "metadata": {},
   "outputs": [
    {
     "name": "stderr",
     "output_type": "stream",
     "text": [
      "C:\\Users\\User\\AppData\\Roaming\\Python\\Python38\\site-packages\\IPython\\core\\interactiveshell.py:3062: DtypeWarning: Columns (1) have mixed types.Specify dtype option on import or set low_memory=False.\n",
      "  has_raised = await self.run_ast_nodes(code_ast.body, cell_name,\n"
     ]
    },
    {
     "data": {
      "text/html": [
       "<div>\n",
       "<style scoped>\n",
       "    .dataframe tbody tr th:only-of-type {\n",
       "        vertical-align: middle;\n",
       "    }\n",
       "\n",
       "    .dataframe tbody tr th {\n",
       "        vertical-align: top;\n",
       "    }\n",
       "\n",
       "    .dataframe thead th {\n",
       "        text-align: right;\n",
       "    }\n",
       "</style>\n",
       "<table border=\"1\" class=\"dataframe\">\n",
       "  <thead>\n",
       "    <tr style=\"text-align: right;\">\n",
       "      <th></th>\n",
       "      <th>cdc_report_dt</th>\n",
       "      <th>pos_spec_dt</th>\n",
       "      <th>onset_dt</th>\n",
       "      <th>current_status</th>\n",
       "      <th>sex</th>\n",
       "      <th>age_group</th>\n",
       "      <th>Race and ethnicity (combined)</th>\n",
       "      <th>hosp_yn</th>\n",
       "      <th>icu_yn</th>\n",
       "      <th>death_yn</th>\n",
       "      <th>medcond_yn</th>\n",
       "    </tr>\n",
       "  </thead>\n",
       "  <tbody>\n",
       "    <tr>\n",
       "      <th>0</th>\n",
       "      <td>2020/11/10</td>\n",
       "      <td>2020/11/10</td>\n",
       "      <td>NaN</td>\n",
       "      <td>Laboratory-confirmed case</td>\n",
       "      <td>Male</td>\n",
       "      <td>10 - 19 Years</td>\n",
       "      <td>Black, Non-Hispanic</td>\n",
       "      <td>No</td>\n",
       "      <td>Unknown</td>\n",
       "      <td>No</td>\n",
       "      <td>No</td>\n",
       "    </tr>\n",
       "    <tr>\n",
       "      <th>1</th>\n",
       "      <td>2020/11/14</td>\n",
       "      <td>2020/11/10</td>\n",
       "      <td>2020/11/10</td>\n",
       "      <td>Laboratory-confirmed case</td>\n",
       "      <td>Male</td>\n",
       "      <td>10 - 19 Years</td>\n",
       "      <td>Black, Non-Hispanic</td>\n",
       "      <td>No</td>\n",
       "      <td>No</td>\n",
       "      <td>No</td>\n",
       "      <td>No</td>\n",
       "    </tr>\n",
       "    <tr>\n",
       "      <th>2</th>\n",
       "      <td>2020/11/19</td>\n",
       "      <td>2020/11/10</td>\n",
       "      <td>2020/11/09</td>\n",
       "      <td>Laboratory-confirmed case</td>\n",
       "      <td>Male</td>\n",
       "      <td>10 - 19 Years</td>\n",
       "      <td>Black, Non-Hispanic</td>\n",
       "      <td>No</td>\n",
       "      <td>No</td>\n",
       "      <td>No</td>\n",
       "      <td>No</td>\n",
       "    </tr>\n",
       "    <tr>\n",
       "      <th>3</th>\n",
       "      <td>2020/11/14</td>\n",
       "      <td>2020/11/10</td>\n",
       "      <td>NaN</td>\n",
       "      <td>Laboratory-confirmed case</td>\n",
       "      <td>Male</td>\n",
       "      <td>10 - 19 Years</td>\n",
       "      <td>Black, Non-Hispanic</td>\n",
       "      <td>Missing</td>\n",
       "      <td>Missing</td>\n",
       "      <td>No</td>\n",
       "      <td>Missing</td>\n",
       "    </tr>\n",
       "    <tr>\n",
       "      <th>4</th>\n",
       "      <td>2020/11/13</td>\n",
       "      <td>2020/11/10</td>\n",
       "      <td>2020/11/10</td>\n",
       "      <td>Laboratory-confirmed case</td>\n",
       "      <td>Male</td>\n",
       "      <td>10 - 19 Years</td>\n",
       "      <td>Black, Non-Hispanic</td>\n",
       "      <td>No</td>\n",
       "      <td>No</td>\n",
       "      <td>No</td>\n",
       "      <td>Yes</td>\n",
       "    </tr>\n",
       "  </tbody>\n",
       "</table>\n",
       "</div>"
      ],
      "text/plain": [
       "  cdc_report_dt pos_spec_dt    onset_dt             current_status   sex  \\\n",
       "0    2020/11/10  2020/11/10         NaN  Laboratory-confirmed case  Male   \n",
       "1    2020/11/14  2020/11/10  2020/11/10  Laboratory-confirmed case  Male   \n",
       "2    2020/11/19  2020/11/10  2020/11/09  Laboratory-confirmed case  Male   \n",
       "3    2020/11/14  2020/11/10         NaN  Laboratory-confirmed case  Male   \n",
       "4    2020/11/13  2020/11/10  2020/11/10  Laboratory-confirmed case  Male   \n",
       "\n",
       "       age_group Race and ethnicity (combined)  hosp_yn   icu_yn death_yn  \\\n",
       "0  10 - 19 Years           Black, Non-Hispanic       No  Unknown       No   \n",
       "1  10 - 19 Years           Black, Non-Hispanic       No       No       No   \n",
       "2  10 - 19 Years           Black, Non-Hispanic       No       No       No   \n",
       "3  10 - 19 Years           Black, Non-Hispanic  Missing  Missing       No   \n",
       "4  10 - 19 Years           Black, Non-Hispanic       No       No       No   \n",
       "\n",
       "  medcond_yn  \n",
       "0         No  \n",
       "1         No  \n",
       "2         No  \n",
       "3    Missing  \n",
       "4        Yes  "
      ]
     },
     "execution_count": 2,
     "metadata": {},
     "output_type": "execute_result"
    }
   ],
   "source": [
    "# load file CSV\n",
    "covid = pd.read_csv('./COVID-19_Case_Surveillance_Public_Use_Data.csv') # memuat file csv sebagai data frame\n",
    "covid.head() # tampilkan 5 baris pertama"
   ]
  },
  {
   "cell_type": "code",
   "execution_count": 3,
   "metadata": {},
   "outputs": [
    {
     "data": {
      "text/plain": [
       "(8405079, 11)"
      ]
     },
     "execution_count": 3,
     "metadata": {},
     "output_type": "execute_result"
    }
   ],
   "source": [
    "# bentuk/dimensi dataset (baris,kolom)\n",
    "covid.shape"
   ]
  },
  {
   "cell_type": "code",
   "execution_count": 4,
   "metadata": {},
   "outputs": [
    {
     "data": {
      "text/plain": [
       "cdc_report_dt                    object\n",
       "pos_spec_dt                      object\n",
       "onset_dt                         object\n",
       "current_status                   object\n",
       "sex                              object\n",
       "age_group                        object\n",
       "Race and ethnicity (combined)    object\n",
       "hosp_yn                          object\n",
       "icu_yn                           object\n",
       "death_yn                         object\n",
       "medcond_yn                       object\n",
       "dtype: object"
      ]
     },
     "execution_count": 4,
     "metadata": {},
     "output_type": "execute_result"
    }
   ],
   "source": [
    "# tipe data untuk tiap kolom\n",
    "covid.dtypes"
   ]
  },
  {
   "cell_type": "markdown",
   "metadata": {},
   "source": [
    "### Preprocessing Data"
   ]
  },
  {
   "cell_type": "code",
   "execution_count": 5,
   "metadata": {},
   "outputs": [
    {
     "data": {
      "text/plain": [
       "True"
      ]
     },
     "execution_count": 5,
     "metadata": {},
     "output_type": "execute_result"
    }
   ],
   "source": [
    "# mendeteksi keberadaan missing values\n",
    "covid.isna().values.any()"
   ]
  },
  {
   "cell_type": "code",
   "execution_count": 6,
   "metadata": {},
   "outputs": [
    {
     "data": {
      "text/html": [
       "<div>\n",
       "<style scoped>\n",
       "    .dataframe tbody tr th:only-of-type {\n",
       "        vertical-align: middle;\n",
       "    }\n",
       "\n",
       "    .dataframe tbody tr th {\n",
       "        vertical-align: top;\n",
       "    }\n",
       "\n",
       "    .dataframe thead th {\n",
       "        text-align: right;\n",
       "    }\n",
       "</style>\n",
       "<table border=\"1\" class=\"dataframe\">\n",
       "  <thead>\n",
       "    <tr style=\"text-align: right;\">\n",
       "      <th></th>\n",
       "      <th>cdc_report_dt</th>\n",
       "      <th>pos_spec_dt</th>\n",
       "      <th>onset_dt</th>\n",
       "      <th>current_status</th>\n",
       "      <th>sex</th>\n",
       "      <th>age_group</th>\n",
       "      <th>Race and ethnicity (combined)</th>\n",
       "      <th>hosp_yn</th>\n",
       "      <th>icu_yn</th>\n",
       "      <th>death_yn</th>\n",
       "      <th>medcond_yn</th>\n",
       "    </tr>\n",
       "  </thead>\n",
       "  <tbody>\n",
       "    <tr>\n",
       "      <th>0</th>\n",
       "      <td>NaN</td>\n",
       "      <td>NaN</td>\n",
       "      <td>NaN</td>\n",
       "      <td>NaN</td>\n",
       "      <td>NaN</td>\n",
       "      <td>NaN</td>\n",
       "      <td>NaN</td>\n",
       "      <td>NaN</td>\n",
       "      <td>NaN</td>\n",
       "      <td>NaN</td>\n",
       "      <td>NaN</td>\n",
       "    </tr>\n",
       "    <tr>\n",
       "      <th>1</th>\n",
       "      <td>NaN</td>\n",
       "      <td>NaN</td>\n",
       "      <td>NaN</td>\n",
       "      <td>NaN</td>\n",
       "      <td>NaN</td>\n",
       "      <td>NaN</td>\n",
       "      <td>NaN</td>\n",
       "      <td>NaN</td>\n",
       "      <td>NaN</td>\n",
       "      <td>NaN</td>\n",
       "      <td>NaN</td>\n",
       "    </tr>\n",
       "    <tr>\n",
       "      <th>2</th>\n",
       "      <td>NaN</td>\n",
       "      <td>NaN</td>\n",
       "      <td>NaN</td>\n",
       "      <td>NaN</td>\n",
       "      <td>NaN</td>\n",
       "      <td>NaN</td>\n",
       "      <td>NaN</td>\n",
       "      <td>NaN</td>\n",
       "      <td>NaN</td>\n",
       "      <td>NaN</td>\n",
       "      <td>NaN</td>\n",
       "    </tr>\n",
       "    <tr>\n",
       "      <th>3</th>\n",
       "      <td>NaN</td>\n",
       "      <td>NaN</td>\n",
       "      <td>NaN</td>\n",
       "      <td>NaN</td>\n",
       "      <td>NaN</td>\n",
       "      <td>NaN</td>\n",
       "      <td>NaN</td>\n",
       "      <td>NaN</td>\n",
       "      <td>NaN</td>\n",
       "      <td>NaN</td>\n",
       "      <td>NaN</td>\n",
       "    </tr>\n",
       "    <tr>\n",
       "      <th>4</th>\n",
       "      <td>NaN</td>\n",
       "      <td>NaN</td>\n",
       "      <td>NaN</td>\n",
       "      <td>NaN</td>\n",
       "      <td>NaN</td>\n",
       "      <td>NaN</td>\n",
       "      <td>NaN</td>\n",
       "      <td>NaN</td>\n",
       "      <td>NaN</td>\n",
       "      <td>NaN</td>\n",
       "      <td>NaN</td>\n",
       "    </tr>\n",
       "    <tr>\n",
       "      <th>...</th>\n",
       "      <td>...</td>\n",
       "      <td>...</td>\n",
       "      <td>...</td>\n",
       "      <td>...</td>\n",
       "      <td>...</td>\n",
       "      <td>...</td>\n",
       "      <td>...</td>\n",
       "      <td>...</td>\n",
       "      <td>...</td>\n",
       "      <td>...</td>\n",
       "      <td>...</td>\n",
       "    </tr>\n",
       "    <tr>\n",
       "      <th>8405074</th>\n",
       "      <td>NaN</td>\n",
       "      <td>NaN</td>\n",
       "      <td>NaN</td>\n",
       "      <td>NaN</td>\n",
       "      <td>NaN</td>\n",
       "      <td>NaN</td>\n",
       "      <td>NaN</td>\n",
       "      <td>NaN</td>\n",
       "      <td>NaN</td>\n",
       "      <td>NaN</td>\n",
       "      <td>NaN</td>\n",
       "    </tr>\n",
       "    <tr>\n",
       "      <th>8405075</th>\n",
       "      <td>NaN</td>\n",
       "      <td>NaN</td>\n",
       "      <td>NaN</td>\n",
       "      <td>NaN</td>\n",
       "      <td>NaN</td>\n",
       "      <td>NaN</td>\n",
       "      <td>NaN</td>\n",
       "      <td>NaN</td>\n",
       "      <td>NaN</td>\n",
       "      <td>NaN</td>\n",
       "      <td>NaN</td>\n",
       "    </tr>\n",
       "    <tr>\n",
       "      <th>8405076</th>\n",
       "      <td>NaN</td>\n",
       "      <td>NaN</td>\n",
       "      <td>NaN</td>\n",
       "      <td>NaN</td>\n",
       "      <td>NaN</td>\n",
       "      <td>NaN</td>\n",
       "      <td>NaN</td>\n",
       "      <td>NaN</td>\n",
       "      <td>NaN</td>\n",
       "      <td>NaN</td>\n",
       "      <td>NaN</td>\n",
       "    </tr>\n",
       "    <tr>\n",
       "      <th>8405077</th>\n",
       "      <td>NaN</td>\n",
       "      <td>NaN</td>\n",
       "      <td>NaN</td>\n",
       "      <td>NaN</td>\n",
       "      <td>NaN</td>\n",
       "      <td>NaN</td>\n",
       "      <td>NaN</td>\n",
       "      <td>NaN</td>\n",
       "      <td>NaN</td>\n",
       "      <td>NaN</td>\n",
       "      <td>NaN</td>\n",
       "    </tr>\n",
       "    <tr>\n",
       "      <th>8405078</th>\n",
       "      <td>NaN</td>\n",
       "      <td>NaN</td>\n",
       "      <td>NaN</td>\n",
       "      <td>NaN</td>\n",
       "      <td>NaN</td>\n",
       "      <td>NaN</td>\n",
       "      <td>NaN</td>\n",
       "      <td>NaN</td>\n",
       "      <td>NaN</td>\n",
       "      <td>NaN</td>\n",
       "      <td>NaN</td>\n",
       "    </tr>\n",
       "  </tbody>\n",
       "</table>\n",
       "<p>8405079 rows × 11 columns</p>\n",
       "</div>"
      ],
      "text/plain": [
       "        cdc_report_dt pos_spec_dt onset_dt current_status  sex age_group  \\\n",
       "0                 NaN         NaN      NaN            NaN  NaN       NaN   \n",
       "1                 NaN         NaN      NaN            NaN  NaN       NaN   \n",
       "2                 NaN         NaN      NaN            NaN  NaN       NaN   \n",
       "3                 NaN         NaN      NaN            NaN  NaN       NaN   \n",
       "4                 NaN         NaN      NaN            NaN  NaN       NaN   \n",
       "...               ...         ...      ...            ...  ...       ...   \n",
       "8405074           NaN         NaN      NaN            NaN  NaN       NaN   \n",
       "8405075           NaN         NaN      NaN            NaN  NaN       NaN   \n",
       "8405076           NaN         NaN      NaN            NaN  NaN       NaN   \n",
       "8405077           NaN         NaN      NaN            NaN  NaN       NaN   \n",
       "8405078           NaN         NaN      NaN            NaN  NaN       NaN   \n",
       "\n",
       "        Race and ethnicity (combined) hosp_yn icu_yn death_yn medcond_yn  \n",
       "0                                 NaN     NaN    NaN      NaN        NaN  \n",
       "1                                 NaN     NaN    NaN      NaN        NaN  \n",
       "2                                 NaN     NaN    NaN      NaN        NaN  \n",
       "3                                 NaN     NaN    NaN      NaN        NaN  \n",
       "4                                 NaN     NaN    NaN      NaN        NaN  \n",
       "...                               ...     ...    ...      ...        ...  \n",
       "8405074                           NaN     NaN    NaN      NaN        NaN  \n",
       "8405075                           NaN     NaN    NaN      NaN        NaN  \n",
       "8405076                           NaN     NaN    NaN      NaN        NaN  \n",
       "8405077                           NaN     NaN    NaN      NaN        NaN  \n",
       "8405078                           NaN     NaN    NaN      NaN        NaN  \n",
       "\n",
       "[8405079 rows x 11 columns]"
      ]
     },
     "execution_count": 6,
     "metadata": {},
     "output_type": "execute_result"
    }
   ],
   "source": [
    "# tampilkan hanya baris dengan missing values\n",
    "covid[covid.isna()]"
   ]
  },
  {
   "cell_type": "code",
   "execution_count": 7,
   "metadata": {},
   "outputs": [],
   "source": [
    "# drop semua baris dengan missing values\n",
    "covid.dropna(inplace=True)"
   ]
  },
  {
   "cell_type": "code",
   "execution_count": 8,
   "metadata": {},
   "outputs": [
    {
     "data": {
      "text/plain": [
       "(1386645, 11)"
      ]
     },
     "execution_count": 8,
     "metadata": {},
     "output_type": "execute_result"
    }
   ],
   "source": [
    "covid.shape"
   ]
  },
  {
   "cell_type": "code",
   "execution_count": 9,
   "metadata": {},
   "outputs": [],
   "source": [
    "# mengubah tipe data kolom cdc_report_dt menjadi datetime\n",
    "covid ['cdc_report_dt'] = pd.to_datetime(covid['cdc_report_dt'], format = '%Y/%m/%d')"
   ]
  },
  {
   "cell_type": "code",
   "execution_count": 10,
   "metadata": {},
   "outputs": [],
   "source": [
    "# mengubah tipe data kolom pos_spec_dt menjadi datetime\n",
    "covid ['pos_spec_dt'] = pd.to_datetime(covid['pos_spec_dt'], format = '%Y/%m/%d')"
   ]
  },
  {
   "cell_type": "code",
   "execution_count": 11,
   "metadata": {},
   "outputs": [
    {
     "name": "stdout",
     "output_type": "stream",
     "text": [
      "<class 'pandas.core.frame.DataFrame'>\n",
      "Int64Index: 1386645 entries, 1 to 7494730\n",
      "Data columns (total 11 columns):\n",
      " #   Column                         Non-Null Count    Dtype         \n",
      "---  ------                         --------------    -----         \n",
      " 0   cdc_report_dt                  1386645 non-null  datetime64[ns]\n",
      " 1   pos_spec_dt                    1386645 non-null  datetime64[ns]\n",
      " 2   onset_dt                       1386645 non-null  datetime64[ns]\n",
      " 3   current_status                 1386645 non-null  object        \n",
      " 4   sex                            1386645 non-null  object        \n",
      " 5   age_group                      1386645 non-null  object        \n",
      " 6   Race and ethnicity (combined)  1386645 non-null  object        \n",
      " 7   hosp_yn                        1386645 non-null  object        \n",
      " 8   icu_yn                         1386645 non-null  object        \n",
      " 9   death_yn                       1386645 non-null  object        \n",
      " 10  medcond_yn                     1386645 non-null  object        \n",
      "dtypes: datetime64[ns](3), object(8)\n",
      "memory usage: 127.0+ MB\n"
     ]
    }
   ],
   "source": [
    "# mengubah tipe data kolom onset_dt menjadi datetime\n",
    "covid ['onset_dt'] = pd.to_datetime(covid['onset_dt'], format = '%Y/%m/%d')\n",
    "covid.info()"
   ]
  },
  {
   "cell_type": "code",
   "execution_count": 12,
   "metadata": {},
   "outputs": [],
   "source": [
    "#mengubah nama kolom Race and ethnicity (combined) menjadi race\n",
    "covid.rename(columns={'Race and ethnicity (combined)': 'race'}, inplace=True)"
   ]
  },
  {
   "cell_type": "code",
   "execution_count": 13,
   "metadata": {},
   "outputs": [
    {
     "data": {
      "text/html": [
       "<div>\n",
       "<style scoped>\n",
       "    .dataframe tbody tr th:only-of-type {\n",
       "        vertical-align: middle;\n",
       "    }\n",
       "\n",
       "    .dataframe tbody tr th {\n",
       "        vertical-align: top;\n",
       "    }\n",
       "\n",
       "    .dataframe thead th {\n",
       "        text-align: right;\n",
       "    }\n",
       "</style>\n",
       "<table border=\"1\" class=\"dataframe\">\n",
       "  <thead>\n",
       "    <tr style=\"text-align: right;\">\n",
       "      <th></th>\n",
       "      <th>cdc_report_dt</th>\n",
       "      <th>pos_spec_dt</th>\n",
       "      <th>onset_dt</th>\n",
       "      <th>current_status</th>\n",
       "      <th>sex</th>\n",
       "      <th>age_group</th>\n",
       "      <th>race</th>\n",
       "      <th>hosp_yn</th>\n",
       "      <th>icu_yn</th>\n",
       "      <th>death_yn</th>\n",
       "      <th>medcond_yn</th>\n",
       "    </tr>\n",
       "  </thead>\n",
       "  <tbody>\n",
       "    <tr>\n",
       "      <th>1</th>\n",
       "      <td>2020-11-14</td>\n",
       "      <td>2020-11-10</td>\n",
       "      <td>2020-11-10</td>\n",
       "      <td>Laboratory-confirmed case</td>\n",
       "      <td>Male</td>\n",
       "      <td>10 - 19 Years</td>\n",
       "      <td>Black, Non-Hispanic</td>\n",
       "      <td>No</td>\n",
       "      <td>No</td>\n",
       "      <td>No</td>\n",
       "      <td>No</td>\n",
       "    </tr>\n",
       "    <tr>\n",
       "      <th>2</th>\n",
       "      <td>2020-11-19</td>\n",
       "      <td>2020-11-10</td>\n",
       "      <td>2020-11-09</td>\n",
       "      <td>Laboratory-confirmed case</td>\n",
       "      <td>Male</td>\n",
       "      <td>10 - 19 Years</td>\n",
       "      <td>Black, Non-Hispanic</td>\n",
       "      <td>No</td>\n",
       "      <td>No</td>\n",
       "      <td>No</td>\n",
       "      <td>No</td>\n",
       "    </tr>\n",
       "    <tr>\n",
       "      <th>4</th>\n",
       "      <td>2020-11-13</td>\n",
       "      <td>2020-11-10</td>\n",
       "      <td>2020-11-10</td>\n",
       "      <td>Laboratory-confirmed case</td>\n",
       "      <td>Male</td>\n",
       "      <td>10 - 19 Years</td>\n",
       "      <td>Black, Non-Hispanic</td>\n",
       "      <td>No</td>\n",
       "      <td>No</td>\n",
       "      <td>No</td>\n",
       "      <td>Yes</td>\n",
       "    </tr>\n",
       "    <tr>\n",
       "      <th>5</th>\n",
       "      <td>2020-11-17</td>\n",
       "      <td>2020-11-10</td>\n",
       "      <td>2020-11-08</td>\n",
       "      <td>Laboratory-confirmed case</td>\n",
       "      <td>Male</td>\n",
       "      <td>10 - 19 Years</td>\n",
       "      <td>Black, Non-Hispanic</td>\n",
       "      <td>Missing</td>\n",
       "      <td>Missing</td>\n",
       "      <td>Missing</td>\n",
       "      <td>Missing</td>\n",
       "    </tr>\n",
       "    <tr>\n",
       "      <th>11</th>\n",
       "      <td>2020-11-09</td>\n",
       "      <td>2020-11-10</td>\n",
       "      <td>2020-11-09</td>\n",
       "      <td>Laboratory-confirmed case</td>\n",
       "      <td>Male</td>\n",
       "      <td>10 - 19 Years</td>\n",
       "      <td>Black, Non-Hispanic</td>\n",
       "      <td>No</td>\n",
       "      <td>No</td>\n",
       "      <td>No</td>\n",
       "      <td>No</td>\n",
       "    </tr>\n",
       "    <tr>\n",
       "      <th>...</th>\n",
       "      <td>...</td>\n",
       "      <td>...</td>\n",
       "      <td>...</td>\n",
       "      <td>...</td>\n",
       "      <td>...</td>\n",
       "      <td>...</td>\n",
       "      <td>...</td>\n",
       "      <td>...</td>\n",
       "      <td>...</td>\n",
       "      <td>...</td>\n",
       "      <td>...</td>\n",
       "    </tr>\n",
       "    <tr>\n",
       "      <th>7494726</th>\n",
       "      <td>2020-11-12</td>\n",
       "      <td>2020-12-01</td>\n",
       "      <td>2020-11-12</td>\n",
       "      <td>Laboratory-confirmed case</td>\n",
       "      <td>Female</td>\n",
       "      <td>20 - 29 Years</td>\n",
       "      <td>White, Non-Hispanic</td>\n",
       "      <td>Unknown</td>\n",
       "      <td>Missing</td>\n",
       "      <td>Missing</td>\n",
       "      <td>Missing</td>\n",
       "    </tr>\n",
       "    <tr>\n",
       "      <th>7494727</th>\n",
       "      <td>2020-10-28</td>\n",
       "      <td>2020-12-01</td>\n",
       "      <td>2020-10-28</td>\n",
       "      <td>Laboratory-confirmed case</td>\n",
       "      <td>Male</td>\n",
       "      <td>20 - 29 Years</td>\n",
       "      <td>White, Non-Hispanic</td>\n",
       "      <td>Unknown</td>\n",
       "      <td>Missing</td>\n",
       "      <td>Missing</td>\n",
       "      <td>Missing</td>\n",
       "    </tr>\n",
       "    <tr>\n",
       "      <th>7494728</th>\n",
       "      <td>2020-09-26</td>\n",
       "      <td>2020-12-01</td>\n",
       "      <td>2020-09-26</td>\n",
       "      <td>Laboratory-confirmed case</td>\n",
       "      <td>Male</td>\n",
       "      <td>20 - 29 Years</td>\n",
       "      <td>White, Non-Hispanic</td>\n",
       "      <td>No</td>\n",
       "      <td>Missing</td>\n",
       "      <td>Missing</td>\n",
       "      <td>Missing</td>\n",
       "    </tr>\n",
       "    <tr>\n",
       "      <th>7494729</th>\n",
       "      <td>2020-09-18</td>\n",
       "      <td>2020-12-01</td>\n",
       "      <td>2020-09-18</td>\n",
       "      <td>Laboratory-confirmed case</td>\n",
       "      <td>Male</td>\n",
       "      <td>20 - 29 Years</td>\n",
       "      <td>Black, Non-Hispanic</td>\n",
       "      <td>No</td>\n",
       "      <td>Missing</td>\n",
       "      <td>Missing</td>\n",
       "      <td>Missing</td>\n",
       "    </tr>\n",
       "    <tr>\n",
       "      <th>7494730</th>\n",
       "      <td>2020-11-14</td>\n",
       "      <td>2020-12-02</td>\n",
       "      <td>2020-11-14</td>\n",
       "      <td>Laboratory-confirmed case</td>\n",
       "      <td>Female</td>\n",
       "      <td>20 - 29 Years</td>\n",
       "      <td>White, Non-Hispanic</td>\n",
       "      <td>No</td>\n",
       "      <td>No</td>\n",
       "      <td>No</td>\n",
       "      <td>Yes</td>\n",
       "    </tr>\n",
       "  </tbody>\n",
       "</table>\n",
       "<p>1386645 rows × 11 columns</p>\n",
       "</div>"
      ],
      "text/plain": [
       "        cdc_report_dt pos_spec_dt   onset_dt             current_status  \\\n",
       "1          2020-11-14  2020-11-10 2020-11-10  Laboratory-confirmed case   \n",
       "2          2020-11-19  2020-11-10 2020-11-09  Laboratory-confirmed case   \n",
       "4          2020-11-13  2020-11-10 2020-11-10  Laboratory-confirmed case   \n",
       "5          2020-11-17  2020-11-10 2020-11-08  Laboratory-confirmed case   \n",
       "11         2020-11-09  2020-11-10 2020-11-09  Laboratory-confirmed case   \n",
       "...               ...         ...        ...                        ...   \n",
       "7494726    2020-11-12  2020-12-01 2020-11-12  Laboratory-confirmed case   \n",
       "7494727    2020-10-28  2020-12-01 2020-10-28  Laboratory-confirmed case   \n",
       "7494728    2020-09-26  2020-12-01 2020-09-26  Laboratory-confirmed case   \n",
       "7494729    2020-09-18  2020-12-01 2020-09-18  Laboratory-confirmed case   \n",
       "7494730    2020-11-14  2020-12-02 2020-11-14  Laboratory-confirmed case   \n",
       "\n",
       "            sex      age_group                 race  hosp_yn   icu_yn  \\\n",
       "1          Male  10 - 19 Years  Black, Non-Hispanic       No       No   \n",
       "2          Male  10 - 19 Years  Black, Non-Hispanic       No       No   \n",
       "4          Male  10 - 19 Years  Black, Non-Hispanic       No       No   \n",
       "5          Male  10 - 19 Years  Black, Non-Hispanic  Missing  Missing   \n",
       "11         Male  10 - 19 Years  Black, Non-Hispanic       No       No   \n",
       "...         ...            ...                  ...      ...      ...   \n",
       "7494726  Female  20 - 29 Years  White, Non-Hispanic  Unknown  Missing   \n",
       "7494727    Male  20 - 29 Years  White, Non-Hispanic  Unknown  Missing   \n",
       "7494728    Male  20 - 29 Years  White, Non-Hispanic       No  Missing   \n",
       "7494729    Male  20 - 29 Years  Black, Non-Hispanic       No  Missing   \n",
       "7494730  Female  20 - 29 Years  White, Non-Hispanic       No       No   \n",
       "\n",
       "        death_yn medcond_yn  \n",
       "1             No         No  \n",
       "2             No         No  \n",
       "4             No        Yes  \n",
       "5        Missing    Missing  \n",
       "11            No         No  \n",
       "...          ...        ...  \n",
       "7494726  Missing    Missing  \n",
       "7494727  Missing    Missing  \n",
       "7494728  Missing    Missing  \n",
       "7494729  Missing    Missing  \n",
       "7494730       No        Yes  \n",
       "\n",
       "[1386645 rows x 11 columns]"
      ]
     },
     "execution_count": 13,
     "metadata": {},
     "output_type": "execute_result"
    }
   ],
   "source": [
    "covid"
   ]
  },
  {
   "cell_type": "markdown",
   "metadata": {},
   "source": [
    "#### Mengubah nilai No, Yes, Missing, dan Unknown menjadi 0, 1, 2, dan 3 pada kolom ```hosp_yn```, ```icu_yn```, ```death_yn```, dan ```medcond_yn```\n",
    "Kolom ```hosp_yn```"
   ]
  },
  {
   "cell_type": "code",
   "execution_count": 14,
   "metadata": {},
   "outputs": [],
   "source": [
    "covid['hosp_yn'] = covid['hosp_yn'].map({'No': 0, 'Yes': 1, 'Missing': 2, 'Unknown': 3})"
   ]
  },
  {
   "cell_type": "markdown",
   "metadata": {},
   "source": [
    "Kolom ```icu_yn```"
   ]
  },
  {
   "cell_type": "code",
   "execution_count": 15,
   "metadata": {},
   "outputs": [],
   "source": [
    "covid['icu_yn'] = covid['icu_yn'].map({'No': 0, 'Yes': 1, 'Missing': 2, 'Unknown': 3})"
   ]
  },
  {
   "cell_type": "markdown",
   "metadata": {},
   "source": [
    "Kolom ```death_yn```"
   ]
  },
  {
   "cell_type": "code",
   "execution_count": 16,
   "metadata": {},
   "outputs": [],
   "source": [
    "covid['death_yn'] = covid['death_yn'].map({'No': 0, 'Yes': 1, 'Missing': 2, 'Unknown': 3})"
   ]
  },
  {
   "cell_type": "markdown",
   "metadata": {},
   "source": [
    "Kolom ```medcond_yn```"
   ]
  },
  {
   "cell_type": "code",
   "execution_count": 17,
   "metadata": {},
   "outputs": [
    {
     "data": {
      "text/html": [
       "<div>\n",
       "<style scoped>\n",
       "    .dataframe tbody tr th:only-of-type {\n",
       "        vertical-align: middle;\n",
       "    }\n",
       "\n",
       "    .dataframe tbody tr th {\n",
       "        vertical-align: top;\n",
       "    }\n",
       "\n",
       "    .dataframe thead th {\n",
       "        text-align: right;\n",
       "    }\n",
       "</style>\n",
       "<table border=\"1\" class=\"dataframe\">\n",
       "  <thead>\n",
       "    <tr style=\"text-align: right;\">\n",
       "      <th></th>\n",
       "      <th>cdc_report_dt</th>\n",
       "      <th>pos_spec_dt</th>\n",
       "      <th>onset_dt</th>\n",
       "      <th>current_status</th>\n",
       "      <th>sex</th>\n",
       "      <th>age_group</th>\n",
       "      <th>race</th>\n",
       "      <th>hosp_yn</th>\n",
       "      <th>icu_yn</th>\n",
       "      <th>death_yn</th>\n",
       "      <th>medcond_yn</th>\n",
       "    </tr>\n",
       "  </thead>\n",
       "  <tbody>\n",
       "    <tr>\n",
       "      <th>1</th>\n",
       "      <td>2020-11-14</td>\n",
       "      <td>2020-11-10</td>\n",
       "      <td>2020-11-10</td>\n",
       "      <td>Laboratory-confirmed case</td>\n",
       "      <td>Male</td>\n",
       "      <td>10 - 19 Years</td>\n",
       "      <td>Black, Non-Hispanic</td>\n",
       "      <td>0</td>\n",
       "      <td>0</td>\n",
       "      <td>0</td>\n",
       "      <td>0</td>\n",
       "    </tr>\n",
       "    <tr>\n",
       "      <th>2</th>\n",
       "      <td>2020-11-19</td>\n",
       "      <td>2020-11-10</td>\n",
       "      <td>2020-11-09</td>\n",
       "      <td>Laboratory-confirmed case</td>\n",
       "      <td>Male</td>\n",
       "      <td>10 - 19 Years</td>\n",
       "      <td>Black, Non-Hispanic</td>\n",
       "      <td>0</td>\n",
       "      <td>0</td>\n",
       "      <td>0</td>\n",
       "      <td>0</td>\n",
       "    </tr>\n",
       "    <tr>\n",
       "      <th>4</th>\n",
       "      <td>2020-11-13</td>\n",
       "      <td>2020-11-10</td>\n",
       "      <td>2020-11-10</td>\n",
       "      <td>Laboratory-confirmed case</td>\n",
       "      <td>Male</td>\n",
       "      <td>10 - 19 Years</td>\n",
       "      <td>Black, Non-Hispanic</td>\n",
       "      <td>0</td>\n",
       "      <td>0</td>\n",
       "      <td>0</td>\n",
       "      <td>1</td>\n",
       "    </tr>\n",
       "    <tr>\n",
       "      <th>5</th>\n",
       "      <td>2020-11-17</td>\n",
       "      <td>2020-11-10</td>\n",
       "      <td>2020-11-08</td>\n",
       "      <td>Laboratory-confirmed case</td>\n",
       "      <td>Male</td>\n",
       "      <td>10 - 19 Years</td>\n",
       "      <td>Black, Non-Hispanic</td>\n",
       "      <td>2</td>\n",
       "      <td>2</td>\n",
       "      <td>2</td>\n",
       "      <td>2</td>\n",
       "    </tr>\n",
       "    <tr>\n",
       "      <th>11</th>\n",
       "      <td>2020-11-09</td>\n",
       "      <td>2020-11-10</td>\n",
       "      <td>2020-11-09</td>\n",
       "      <td>Laboratory-confirmed case</td>\n",
       "      <td>Male</td>\n",
       "      <td>10 - 19 Years</td>\n",
       "      <td>Black, Non-Hispanic</td>\n",
       "      <td>0</td>\n",
       "      <td>0</td>\n",
       "      <td>0</td>\n",
       "      <td>0</td>\n",
       "    </tr>\n",
       "    <tr>\n",
       "      <th>...</th>\n",
       "      <td>...</td>\n",
       "      <td>...</td>\n",
       "      <td>...</td>\n",
       "      <td>...</td>\n",
       "      <td>...</td>\n",
       "      <td>...</td>\n",
       "      <td>...</td>\n",
       "      <td>...</td>\n",
       "      <td>...</td>\n",
       "      <td>...</td>\n",
       "      <td>...</td>\n",
       "    </tr>\n",
       "    <tr>\n",
       "      <th>7494726</th>\n",
       "      <td>2020-11-12</td>\n",
       "      <td>2020-12-01</td>\n",
       "      <td>2020-11-12</td>\n",
       "      <td>Laboratory-confirmed case</td>\n",
       "      <td>Female</td>\n",
       "      <td>20 - 29 Years</td>\n",
       "      <td>White, Non-Hispanic</td>\n",
       "      <td>3</td>\n",
       "      <td>2</td>\n",
       "      <td>2</td>\n",
       "      <td>2</td>\n",
       "    </tr>\n",
       "    <tr>\n",
       "      <th>7494727</th>\n",
       "      <td>2020-10-28</td>\n",
       "      <td>2020-12-01</td>\n",
       "      <td>2020-10-28</td>\n",
       "      <td>Laboratory-confirmed case</td>\n",
       "      <td>Male</td>\n",
       "      <td>20 - 29 Years</td>\n",
       "      <td>White, Non-Hispanic</td>\n",
       "      <td>3</td>\n",
       "      <td>2</td>\n",
       "      <td>2</td>\n",
       "      <td>2</td>\n",
       "    </tr>\n",
       "    <tr>\n",
       "      <th>7494728</th>\n",
       "      <td>2020-09-26</td>\n",
       "      <td>2020-12-01</td>\n",
       "      <td>2020-09-26</td>\n",
       "      <td>Laboratory-confirmed case</td>\n",
       "      <td>Male</td>\n",
       "      <td>20 - 29 Years</td>\n",
       "      <td>White, Non-Hispanic</td>\n",
       "      <td>0</td>\n",
       "      <td>2</td>\n",
       "      <td>2</td>\n",
       "      <td>2</td>\n",
       "    </tr>\n",
       "    <tr>\n",
       "      <th>7494729</th>\n",
       "      <td>2020-09-18</td>\n",
       "      <td>2020-12-01</td>\n",
       "      <td>2020-09-18</td>\n",
       "      <td>Laboratory-confirmed case</td>\n",
       "      <td>Male</td>\n",
       "      <td>20 - 29 Years</td>\n",
       "      <td>Black, Non-Hispanic</td>\n",
       "      <td>0</td>\n",
       "      <td>2</td>\n",
       "      <td>2</td>\n",
       "      <td>2</td>\n",
       "    </tr>\n",
       "    <tr>\n",
       "      <th>7494730</th>\n",
       "      <td>2020-11-14</td>\n",
       "      <td>2020-12-02</td>\n",
       "      <td>2020-11-14</td>\n",
       "      <td>Laboratory-confirmed case</td>\n",
       "      <td>Female</td>\n",
       "      <td>20 - 29 Years</td>\n",
       "      <td>White, Non-Hispanic</td>\n",
       "      <td>0</td>\n",
       "      <td>0</td>\n",
       "      <td>0</td>\n",
       "      <td>1</td>\n",
       "    </tr>\n",
       "  </tbody>\n",
       "</table>\n",
       "<p>1386645 rows × 11 columns</p>\n",
       "</div>"
      ],
      "text/plain": [
       "        cdc_report_dt pos_spec_dt   onset_dt             current_status  \\\n",
       "1          2020-11-14  2020-11-10 2020-11-10  Laboratory-confirmed case   \n",
       "2          2020-11-19  2020-11-10 2020-11-09  Laboratory-confirmed case   \n",
       "4          2020-11-13  2020-11-10 2020-11-10  Laboratory-confirmed case   \n",
       "5          2020-11-17  2020-11-10 2020-11-08  Laboratory-confirmed case   \n",
       "11         2020-11-09  2020-11-10 2020-11-09  Laboratory-confirmed case   \n",
       "...               ...         ...        ...                        ...   \n",
       "7494726    2020-11-12  2020-12-01 2020-11-12  Laboratory-confirmed case   \n",
       "7494727    2020-10-28  2020-12-01 2020-10-28  Laboratory-confirmed case   \n",
       "7494728    2020-09-26  2020-12-01 2020-09-26  Laboratory-confirmed case   \n",
       "7494729    2020-09-18  2020-12-01 2020-09-18  Laboratory-confirmed case   \n",
       "7494730    2020-11-14  2020-12-02 2020-11-14  Laboratory-confirmed case   \n",
       "\n",
       "            sex      age_group                 race  hosp_yn  icu_yn  \\\n",
       "1          Male  10 - 19 Years  Black, Non-Hispanic        0       0   \n",
       "2          Male  10 - 19 Years  Black, Non-Hispanic        0       0   \n",
       "4          Male  10 - 19 Years  Black, Non-Hispanic        0       0   \n",
       "5          Male  10 - 19 Years  Black, Non-Hispanic        2       2   \n",
       "11         Male  10 - 19 Years  Black, Non-Hispanic        0       0   \n",
       "...         ...            ...                  ...      ...     ...   \n",
       "7494726  Female  20 - 29 Years  White, Non-Hispanic        3       2   \n",
       "7494727    Male  20 - 29 Years  White, Non-Hispanic        3       2   \n",
       "7494728    Male  20 - 29 Years  White, Non-Hispanic        0       2   \n",
       "7494729    Male  20 - 29 Years  Black, Non-Hispanic        0       2   \n",
       "7494730  Female  20 - 29 Years  White, Non-Hispanic        0       0   \n",
       "\n",
       "         death_yn  medcond_yn  \n",
       "1               0           0  \n",
       "2               0           0  \n",
       "4               0           1  \n",
       "5               2           2  \n",
       "11              0           0  \n",
       "...           ...         ...  \n",
       "7494726         2           2  \n",
       "7494727         2           2  \n",
       "7494728         2           2  \n",
       "7494729         2           2  \n",
       "7494730         0           1  \n",
       "\n",
       "[1386645 rows x 11 columns]"
      ]
     },
     "execution_count": 17,
     "metadata": {},
     "output_type": "execute_result"
    }
   ],
   "source": [
    "covid['medcond_yn'] = covid['medcond_yn'].map({'No': 0, 'Yes': 1, 'Missing': 2, 'Unknown': 3})\n",
    "covid"
   ]
  },
  {
   "cell_type": "markdown",
   "metadata": {},
   "source": [
    "### Analyze Data"
   ]
  },
  {
   "cell_type": "code",
   "execution_count": 18,
   "metadata": {},
   "outputs": [
    {
     "data": {
      "text/html": [
       "<div>\n",
       "<style scoped>\n",
       "    .dataframe tbody tr th:only-of-type {\n",
       "        vertical-align: middle;\n",
       "    }\n",
       "\n",
       "    .dataframe tbody tr th {\n",
       "        vertical-align: top;\n",
       "    }\n",
       "\n",
       "    .dataframe thead th {\n",
       "        text-align: right;\n",
       "    }\n",
       "</style>\n",
       "<table border=\"1\" class=\"dataframe\">\n",
       "  <thead>\n",
       "    <tr style=\"text-align: right;\">\n",
       "      <th></th>\n",
       "      <th>hosp_yn</th>\n",
       "      <th>icu_yn</th>\n",
       "      <th>death_yn</th>\n",
       "      <th>medcond_yn</th>\n",
       "    </tr>\n",
       "  </thead>\n",
       "  <tbody>\n",
       "    <tr>\n",
       "      <th>count</th>\n",
       "      <td>1.386645e+06</td>\n",
       "      <td>1.386645e+06</td>\n",
       "      <td>1.386645e+06</td>\n",
       "      <td>1.386645e+06</td>\n",
       "    </tr>\n",
       "    <tr>\n",
       "      <th>mean</th>\n",
       "      <td>4.710449e-01</td>\n",
       "      <td>1.376765e+00</td>\n",
       "      <td>7.420118e-01</td>\n",
       "      <td>1.126286e+00</td>\n",
       "    </tr>\n",
       "    <tr>\n",
       "      <th>std</th>\n",
       "      <td>8.712780e-01</td>\n",
       "      <td>1.185655e+00</td>\n",
       "      <td>1.070553e+00</td>\n",
       "      <td>1.005989e+00</td>\n",
       "    </tr>\n",
       "    <tr>\n",
       "      <th>min</th>\n",
       "      <td>0.000000e+00</td>\n",
       "      <td>0.000000e+00</td>\n",
       "      <td>0.000000e+00</td>\n",
       "      <td>0.000000e+00</td>\n",
       "    </tr>\n",
       "    <tr>\n",
       "      <th>25%</th>\n",
       "      <td>0.000000e+00</td>\n",
       "      <td>0.000000e+00</td>\n",
       "      <td>0.000000e+00</td>\n",
       "      <td>0.000000e+00</td>\n",
       "    </tr>\n",
       "    <tr>\n",
       "      <th>50%</th>\n",
       "      <td>0.000000e+00</td>\n",
       "      <td>2.000000e+00</td>\n",
       "      <td>0.000000e+00</td>\n",
       "      <td>1.000000e+00</td>\n",
       "    </tr>\n",
       "    <tr>\n",
       "      <th>75%</th>\n",
       "      <td>1.000000e+00</td>\n",
       "      <td>2.000000e+00</td>\n",
       "      <td>2.000000e+00</td>\n",
       "      <td>2.000000e+00</td>\n",
       "    </tr>\n",
       "    <tr>\n",
       "      <th>max</th>\n",
       "      <td>3.000000e+00</td>\n",
       "      <td>3.000000e+00</td>\n",
       "      <td>3.000000e+00</td>\n",
       "      <td>3.000000e+00</td>\n",
       "    </tr>\n",
       "  </tbody>\n",
       "</table>\n",
       "</div>"
      ],
      "text/plain": [
       "            hosp_yn        icu_yn      death_yn    medcond_yn\n",
       "count  1.386645e+06  1.386645e+06  1.386645e+06  1.386645e+06\n",
       "mean   4.710449e-01  1.376765e+00  7.420118e-01  1.126286e+00\n",
       "std    8.712780e-01  1.185655e+00  1.070553e+00  1.005989e+00\n",
       "min    0.000000e+00  0.000000e+00  0.000000e+00  0.000000e+00\n",
       "25%    0.000000e+00  0.000000e+00  0.000000e+00  0.000000e+00\n",
       "50%    0.000000e+00  2.000000e+00  0.000000e+00  1.000000e+00\n",
       "75%    1.000000e+00  2.000000e+00  2.000000e+00  2.000000e+00\n",
       "max    3.000000e+00  3.000000e+00  3.000000e+00  3.000000e+00"
      ]
     },
     "execution_count": 18,
     "metadata": {},
     "output_type": "execute_result"
    }
   ],
   "source": [
    "covid.describe()"
   ]
  },
  {
   "cell_type": "code",
   "execution_count": 19,
   "metadata": {},
   "outputs": [
    {
     "data": {
      "text/plain": [
       "cdc_report_dt     datetime64[ns]\n",
       "pos_spec_dt       datetime64[ns]\n",
       "onset_dt          datetime64[ns]\n",
       "current_status            object\n",
       "sex                       object\n",
       "age_group                 object\n",
       "race                      object\n",
       "hosp_yn                    int64\n",
       "icu_yn                     int64\n",
       "death_yn                   int64\n",
       "medcond_yn                 int64\n",
       "dtype: object"
      ]
     },
     "execution_count": 19,
     "metadata": {},
     "output_type": "execute_result"
    }
   ],
   "source": [
    "covid.dtypes"
   ]
  },
  {
   "cell_type": "code",
   "execution_count": 20,
   "metadata": {},
   "outputs": [
    {
     "data": {
      "text/html": [
       "<div>\n",
       "<style scoped>\n",
       "    .dataframe tbody tr th:only-of-type {\n",
       "        vertical-align: middle;\n",
       "    }\n",
       "\n",
       "    .dataframe tbody tr th {\n",
       "        vertical-align: top;\n",
       "    }\n",
       "\n",
       "    .dataframe thead th {\n",
       "        text-align: right;\n",
       "    }\n",
       "</style>\n",
       "<table border=\"1\" class=\"dataframe\">\n",
       "  <thead>\n",
       "    <tr style=\"text-align: right;\">\n",
       "      <th></th>\n",
       "      <th>cdc_report_dt</th>\n",
       "      <th>pos_spec_dt</th>\n",
       "      <th>onset_dt</th>\n",
       "      <th>current_status</th>\n",
       "      <th>sex</th>\n",
       "      <th>age_group</th>\n",
       "      <th>race</th>\n",
       "      <th>hosp_yn</th>\n",
       "      <th>icu_yn</th>\n",
       "      <th>death_yn</th>\n",
       "      <th>medcond_yn</th>\n",
       "    </tr>\n",
       "  </thead>\n",
       "  <tbody>\n",
       "    <tr>\n",
       "      <th>2155067</th>\n",
       "      <td>2020-01-01</td>\n",
       "      <td>2020-03-15</td>\n",
       "      <td>2020-01-01</td>\n",
       "      <td>Laboratory-confirmed case</td>\n",
       "      <td>Male</td>\n",
       "      <td>40 - 49 Years</td>\n",
       "      <td>Black, Non-Hispanic</td>\n",
       "      <td>1</td>\n",
       "      <td>1</td>\n",
       "      <td>0</td>\n",
       "      <td>0</td>\n",
       "    </tr>\n",
       "    <tr>\n",
       "      <th>2876106</th>\n",
       "      <td>2020-01-01</td>\n",
       "      <td>2020-03-20</td>\n",
       "      <td>2020-01-01</td>\n",
       "      <td>Laboratory-confirmed case</td>\n",
       "      <td>Female</td>\n",
       "      <td>30 - 39 Years</td>\n",
       "      <td>White, Non-Hispanic</td>\n",
       "      <td>0</td>\n",
       "      <td>3</td>\n",
       "      <td>0</td>\n",
       "      <td>3</td>\n",
       "    </tr>\n",
       "    <tr>\n",
       "      <th>6853012</th>\n",
       "      <td>2020-01-01</td>\n",
       "      <td>2020-07-14</td>\n",
       "      <td>2020-01-01</td>\n",
       "      <td>Laboratory-confirmed case</td>\n",
       "      <td>Female</td>\n",
       "      <td>60 - 69 Years</td>\n",
       "      <td>White, Non-Hispanic</td>\n",
       "      <td>0</td>\n",
       "      <td>0</td>\n",
       "      <td>0</td>\n",
       "      <td>1</td>\n",
       "    </tr>\n",
       "    <tr>\n",
       "      <th>2819969</th>\n",
       "      <td>2020-01-02</td>\n",
       "      <td>2020-10-12</td>\n",
       "      <td>2020-01-02</td>\n",
       "      <td>Laboratory-confirmed case</td>\n",
       "      <td>Male</td>\n",
       "      <td>30 - 39 Years</td>\n",
       "      <td>White, Non-Hispanic</td>\n",
       "      <td>0</td>\n",
       "      <td>3</td>\n",
       "      <td>0</td>\n",
       "      <td>1</td>\n",
       "    </tr>\n",
       "    <tr>\n",
       "      <th>7168707</th>\n",
       "      <td>2020-01-09</td>\n",
       "      <td>2020-11-11</td>\n",
       "      <td>2020-01-09</td>\n",
       "      <td>Laboratory-confirmed case</td>\n",
       "      <td>Male</td>\n",
       "      <td>20 - 29 Years</td>\n",
       "      <td>Hispanic/Latino</td>\n",
       "      <td>0</td>\n",
       "      <td>3</td>\n",
       "      <td>0</td>\n",
       "      <td>3</td>\n",
       "    </tr>\n",
       "  </tbody>\n",
       "</table>\n",
       "</div>"
      ],
      "text/plain": [
       "        cdc_report_dt pos_spec_dt   onset_dt             current_status  \\\n",
       "2155067    2020-01-01  2020-03-15 2020-01-01  Laboratory-confirmed case   \n",
       "2876106    2020-01-01  2020-03-20 2020-01-01  Laboratory-confirmed case   \n",
       "6853012    2020-01-01  2020-07-14 2020-01-01  Laboratory-confirmed case   \n",
       "2819969    2020-01-02  2020-10-12 2020-01-02  Laboratory-confirmed case   \n",
       "7168707    2020-01-09  2020-11-11 2020-01-09  Laboratory-confirmed case   \n",
       "\n",
       "            sex      age_group                 race  hosp_yn  icu_yn  \\\n",
       "2155067    Male  40 - 49 Years  Black, Non-Hispanic        1       1   \n",
       "2876106  Female  30 - 39 Years  White, Non-Hispanic        0       3   \n",
       "6853012  Female  60 - 69 Years  White, Non-Hispanic        0       0   \n",
       "2819969    Male  30 - 39 Years  White, Non-Hispanic        0       3   \n",
       "7168707    Male  20 - 29 Years      Hispanic/Latino        0       3   \n",
       "\n",
       "         death_yn  medcond_yn  \n",
       "2155067         0           0  \n",
       "2876106         0           3  \n",
       "6853012         0           1  \n",
       "2819969         0           1  \n",
       "7168707         0           3  "
      ]
     },
     "execution_count": 20,
     "metadata": {},
     "output_type": "execute_result"
    }
   ],
   "source": [
    "#urutkan dataset berdasarkan cdc_report_dt, pos_spect_dt dan onset_dt secara ascending\n",
    "cov = covid.sort_values(by=['cdc_report_dt', 'pos_spec_dt', 'onset_dt'])\n",
    "cov.head()"
   ]
  },
  {
   "cell_type": "code",
   "execution_count": 23,
   "metadata": {
    "collapsed": true,
    "jupyter": {
     "outputs_hidden": true
    }
   },
   "outputs": [
    {
     "ename": "KeyError",
     "evalue": "\"None of ['cdc_report_dt'] are in the columns\"",
     "output_type": "error",
     "traceback": [
      "\u001b[1;31m---------------------------------------------------------------------------\u001b[0m",
      "\u001b[1;31mKeyError\u001b[0m                                  Traceback (most recent call last)",
      "\u001b[1;32m<ipython-input-23-143c96d75400>\u001b[0m in \u001b[0;36m<module>\u001b[1;34m\u001b[0m\n\u001b[0;32m      1\u001b[0m \u001b[1;31m# membuat cdc_report_dt sebagai indeks\u001b[0m\u001b[1;33m\u001b[0m\u001b[1;33m\u001b[0m\u001b[1;33m\u001b[0m\u001b[0m\n\u001b[1;32m----> 2\u001b[1;33m \u001b[0mcov\u001b[0m \u001b[1;33m=\u001b[0m \u001b[0mcov\u001b[0m\u001b[1;33m.\u001b[0m\u001b[0mset_index\u001b[0m\u001b[1;33m(\u001b[0m\u001b[1;34m'cdc_report_dt'\u001b[0m\u001b[1;33m)\u001b[0m\u001b[1;33m\u001b[0m\u001b[1;33m\u001b[0m\u001b[0m\n\u001b[0m",
      "\u001b[1;32mD:\\Program\\anaconda3\\lib\\site-packages\\pandas\\core\\frame.py\u001b[0m in \u001b[0;36mset_index\u001b[1;34m(self, keys, drop, append, inplace, verify_integrity)\u001b[0m\n\u001b[0;32m   4301\u001b[0m \u001b[1;33m\u001b[0m\u001b[0m\n\u001b[0;32m   4302\u001b[0m         \u001b[1;32mif\u001b[0m \u001b[0mmissing\u001b[0m\u001b[1;33m:\u001b[0m\u001b[1;33m\u001b[0m\u001b[1;33m\u001b[0m\u001b[0m\n\u001b[1;32m-> 4303\u001b[1;33m             \u001b[1;32mraise\u001b[0m \u001b[0mKeyError\u001b[0m\u001b[1;33m(\u001b[0m\u001b[1;34mf\"None of {missing} are in the columns\"\u001b[0m\u001b[1;33m)\u001b[0m\u001b[1;33m\u001b[0m\u001b[1;33m\u001b[0m\u001b[0m\n\u001b[0m\u001b[0;32m   4304\u001b[0m \u001b[1;33m\u001b[0m\u001b[0m\n\u001b[0;32m   4305\u001b[0m         \u001b[1;32mif\u001b[0m \u001b[0minplace\u001b[0m\u001b[1;33m:\u001b[0m\u001b[1;33m\u001b[0m\u001b[1;33m\u001b[0m\u001b[0m\n",
      "\u001b[1;31mKeyError\u001b[0m: \"None of ['cdc_report_dt'] are in the columns\""
     ]
    }
   ],
   "source": [
    "# membuat cdc_report_dt sebagai indeks\n",
    "cov = cov.set_index('cdc_report_dt')"
   ]
  },
  {
   "cell_type": "code",
   "execution_count": 24,
   "metadata": {},
   "outputs": [
    {
     "data": {
      "text/html": [
       "<div>\n",
       "<style scoped>\n",
       "    .dataframe tbody tr th:only-of-type {\n",
       "        vertical-align: middle;\n",
       "    }\n",
       "\n",
       "    .dataframe tbody tr th {\n",
       "        vertical-align: top;\n",
       "    }\n",
       "\n",
       "    .dataframe thead th {\n",
       "        text-align: right;\n",
       "    }\n",
       "</style>\n",
       "<table border=\"1\" class=\"dataframe\">\n",
       "  <thead>\n",
       "    <tr style=\"text-align: right;\">\n",
       "      <th></th>\n",
       "      <th>pos_spec_dt</th>\n",
       "      <th>onset_dt</th>\n",
       "      <th>current_status</th>\n",
       "      <th>sex</th>\n",
       "      <th>age_group</th>\n",
       "      <th>race</th>\n",
       "      <th>hosp_yn</th>\n",
       "      <th>icu_yn</th>\n",
       "      <th>death_yn</th>\n",
       "      <th>medcond_yn</th>\n",
       "    </tr>\n",
       "    <tr>\n",
       "      <th>cdc_report_dt</th>\n",
       "      <th></th>\n",
       "      <th></th>\n",
       "      <th></th>\n",
       "      <th></th>\n",
       "      <th></th>\n",
       "      <th></th>\n",
       "      <th></th>\n",
       "      <th></th>\n",
       "      <th></th>\n",
       "      <th></th>\n",
       "    </tr>\n",
       "  </thead>\n",
       "  <tbody>\n",
       "    <tr>\n",
       "      <th>2020-01-01</th>\n",
       "      <td>2020-03-15</td>\n",
       "      <td>2020-01-01</td>\n",
       "      <td>Laboratory-confirmed case</td>\n",
       "      <td>Male</td>\n",
       "      <td>40 - 49 Years</td>\n",
       "      <td>Black, Non-Hispanic</td>\n",
       "      <td>1</td>\n",
       "      <td>1</td>\n",
       "      <td>0</td>\n",
       "      <td>0</td>\n",
       "    </tr>\n",
       "    <tr>\n",
       "      <th>2020-01-01</th>\n",
       "      <td>2020-03-20</td>\n",
       "      <td>2020-01-01</td>\n",
       "      <td>Laboratory-confirmed case</td>\n",
       "      <td>Female</td>\n",
       "      <td>30 - 39 Years</td>\n",
       "      <td>White, Non-Hispanic</td>\n",
       "      <td>0</td>\n",
       "      <td>3</td>\n",
       "      <td>0</td>\n",
       "      <td>3</td>\n",
       "    </tr>\n",
       "    <tr>\n",
       "      <th>2020-01-01</th>\n",
       "      <td>2020-07-14</td>\n",
       "      <td>2020-01-01</td>\n",
       "      <td>Laboratory-confirmed case</td>\n",
       "      <td>Female</td>\n",
       "      <td>60 - 69 Years</td>\n",
       "      <td>White, Non-Hispanic</td>\n",
       "      <td>0</td>\n",
       "      <td>0</td>\n",
       "      <td>0</td>\n",
       "      <td>1</td>\n",
       "    </tr>\n",
       "    <tr>\n",
       "      <th>2020-01-02</th>\n",
       "      <td>2020-10-12</td>\n",
       "      <td>2020-01-02</td>\n",
       "      <td>Laboratory-confirmed case</td>\n",
       "      <td>Male</td>\n",
       "      <td>30 - 39 Years</td>\n",
       "      <td>White, Non-Hispanic</td>\n",
       "      <td>0</td>\n",
       "      <td>3</td>\n",
       "      <td>0</td>\n",
       "      <td>1</td>\n",
       "    </tr>\n",
       "    <tr>\n",
       "      <th>2020-01-09</th>\n",
       "      <td>2020-11-11</td>\n",
       "      <td>2020-01-09</td>\n",
       "      <td>Laboratory-confirmed case</td>\n",
       "      <td>Male</td>\n",
       "      <td>20 - 29 Years</td>\n",
       "      <td>Hispanic/Latino</td>\n",
       "      <td>0</td>\n",
       "      <td>3</td>\n",
       "      <td>0</td>\n",
       "      <td>3</td>\n",
       "    </tr>\n",
       "    <tr>\n",
       "      <th>...</th>\n",
       "      <td>...</td>\n",
       "      <td>...</td>\n",
       "      <td>...</td>\n",
       "      <td>...</td>\n",
       "      <td>...</td>\n",
       "      <td>...</td>\n",
       "      <td>...</td>\n",
       "      <td>...</td>\n",
       "      <td>...</td>\n",
       "      <td>...</td>\n",
       "    </tr>\n",
       "    <tr>\n",
       "      <th>2020-11-19</th>\n",
       "      <td>2020-11-30</td>\n",
       "      <td>2020-11-19</td>\n",
       "      <td>Laboratory-confirmed case</td>\n",
       "      <td>Male</td>\n",
       "      <td>50 - 59 Years</td>\n",
       "      <td>Black, Non-Hispanic</td>\n",
       "      <td>0</td>\n",
       "      <td>0</td>\n",
       "      <td>2</td>\n",
       "      <td>2</td>\n",
       "    </tr>\n",
       "    <tr>\n",
       "      <th>2020-11-19</th>\n",
       "      <td>2020-11-30</td>\n",
       "      <td>2020-11-19</td>\n",
       "      <td>Laboratory-confirmed case</td>\n",
       "      <td>Female</td>\n",
       "      <td>40 - 49 Years</td>\n",
       "      <td>Unknown</td>\n",
       "      <td>0</td>\n",
       "      <td>3</td>\n",
       "      <td>0</td>\n",
       "      <td>3</td>\n",
       "    </tr>\n",
       "    <tr>\n",
       "      <th>2020-11-19</th>\n",
       "      <td>2020-11-30</td>\n",
       "      <td>2020-11-19</td>\n",
       "      <td>Laboratory-confirmed case</td>\n",
       "      <td>Female</td>\n",
       "      <td>20 - 29 Years</td>\n",
       "      <td>White, Non-Hispanic</td>\n",
       "      <td>3</td>\n",
       "      <td>2</td>\n",
       "      <td>2</td>\n",
       "      <td>2</td>\n",
       "    </tr>\n",
       "    <tr>\n",
       "      <th>2020-11-19</th>\n",
       "      <td>2020-12-01</td>\n",
       "      <td>2020-11-19</td>\n",
       "      <td>Laboratory-confirmed case</td>\n",
       "      <td>Male</td>\n",
       "      <td>30 - 39 Years</td>\n",
       "      <td>Unknown</td>\n",
       "      <td>3</td>\n",
       "      <td>2</td>\n",
       "      <td>2</td>\n",
       "      <td>2</td>\n",
       "    </tr>\n",
       "    <tr>\n",
       "      <th>2020-11-19</th>\n",
       "      <td>2020-12-01</td>\n",
       "      <td>2020-11-19</td>\n",
       "      <td>Laboratory-confirmed case</td>\n",
       "      <td>Female</td>\n",
       "      <td>50 - 59 Years</td>\n",
       "      <td>Unknown</td>\n",
       "      <td>0</td>\n",
       "      <td>2</td>\n",
       "      <td>2</td>\n",
       "      <td>2</td>\n",
       "    </tr>\n",
       "  </tbody>\n",
       "</table>\n",
       "<p>1386645 rows × 10 columns</p>\n",
       "</div>"
      ],
      "text/plain": [
       "              pos_spec_dt   onset_dt             current_status     sex  \\\n",
       "cdc_report_dt                                                             \n",
       "2020-01-01     2020-03-15 2020-01-01  Laboratory-confirmed case    Male   \n",
       "2020-01-01     2020-03-20 2020-01-01  Laboratory-confirmed case  Female   \n",
       "2020-01-01     2020-07-14 2020-01-01  Laboratory-confirmed case  Female   \n",
       "2020-01-02     2020-10-12 2020-01-02  Laboratory-confirmed case    Male   \n",
       "2020-01-09     2020-11-11 2020-01-09  Laboratory-confirmed case    Male   \n",
       "...                   ...        ...                        ...     ...   \n",
       "2020-11-19     2020-11-30 2020-11-19  Laboratory-confirmed case    Male   \n",
       "2020-11-19     2020-11-30 2020-11-19  Laboratory-confirmed case  Female   \n",
       "2020-11-19     2020-11-30 2020-11-19  Laboratory-confirmed case  Female   \n",
       "2020-11-19     2020-12-01 2020-11-19  Laboratory-confirmed case    Male   \n",
       "2020-11-19     2020-12-01 2020-11-19  Laboratory-confirmed case  Female   \n",
       "\n",
       "                   age_group                 race  hosp_yn  icu_yn  death_yn  \\\n",
       "cdc_report_dt                                                                  \n",
       "2020-01-01     40 - 49 Years  Black, Non-Hispanic        1       1         0   \n",
       "2020-01-01     30 - 39 Years  White, Non-Hispanic        0       3         0   \n",
       "2020-01-01     60 - 69 Years  White, Non-Hispanic        0       0         0   \n",
       "2020-01-02     30 - 39 Years  White, Non-Hispanic        0       3         0   \n",
       "2020-01-09     20 - 29 Years      Hispanic/Latino        0       3         0   \n",
       "...                      ...                  ...      ...     ...       ...   \n",
       "2020-11-19     50 - 59 Years  Black, Non-Hispanic        0       0         2   \n",
       "2020-11-19     40 - 49 Years              Unknown        0       3         0   \n",
       "2020-11-19     20 - 29 Years  White, Non-Hispanic        3       2         2   \n",
       "2020-11-19     30 - 39 Years              Unknown        3       2         2   \n",
       "2020-11-19     50 - 59 Years              Unknown        0       2         2   \n",
       "\n",
       "               medcond_yn  \n",
       "cdc_report_dt              \n",
       "2020-01-01              0  \n",
       "2020-01-01              3  \n",
       "2020-01-01              1  \n",
       "2020-01-02              1  \n",
       "2020-01-09              3  \n",
       "...                   ...  \n",
       "2020-11-19              2  \n",
       "2020-11-19              3  \n",
       "2020-11-19              2  \n",
       "2020-11-19              2  \n",
       "2020-11-19              2  \n",
       "\n",
       "[1386645 rows x 10 columns]"
      ]
     },
     "execution_count": 24,
     "metadata": {},
     "output_type": "execute_result"
    }
   ],
   "source": [
    "cov"
   ]
  },
  {
   "cell_type": "markdown",
   "metadata": {},
   "source": [
    "#### Tampilkan waktu pengumpulan Spesimen Positif Pertama diurutkan dari pengumpulan terbanyak"
   ]
  },
  {
   "cell_type": "markdown",
   "metadata": {},
   "source": [
    "Spesimen Positif Pertama dapat diidentifikasi dari kolom ```pos_spec_dt```"
   ]
  },
  {
   "cell_type": "code",
   "execution_count": 25,
   "metadata": {},
   "outputs": [
    {
     "data": {
      "text/plain": [
       "2020-11-09    21470\n",
       "2020-11-10    17924\n",
       "2020-11-02    16676\n",
       "2020-11-05    16344\n",
       "2020-11-04    15578\n",
       "              ...  \n",
       "2020-01-31        1\n",
       "2020-02-20        1\n",
       "2020-01-27        1\n",
       "2020-01-16        1\n",
       "2020-01-04        1\n",
       "Name: pos_spec_dt, Length: 302, dtype: int64"
      ]
     },
     "execution_count": 25,
     "metadata": {},
     "output_type": "execute_result"
    }
   ],
   "source": [
    "cov['pos_spec_dt'].value_counts()"
   ]
  },
  {
   "cell_type": "markdown",
   "metadata": {},
   "source": [
    "#### Tampilkan data dengan laporan kematian lalu simpan pada variabel ```death```"
   ]
  },
  {
   "cell_type": "markdown",
   "metadata": {},
   "source": [
    "Kematian dapat diidentifikasi dari kolom ```death_yn```.\n",
    "Lalu tampilkan jumlah kematian berdasarkan rentang umur, diurutkan dari kematian terbanyak dari kolom ```age_group```"
   ]
  },
  {
   "cell_type": "code",
   "execution_count": 26,
   "metadata": {},
   "outputs": [
    {
     "data": {
      "text/plain": [
       "80+ Years        12711\n",
       "70 - 79 Years     6898\n",
       "60 - 69 Years     5003\n",
       "50 - 59 Years     2638\n",
       "40 - 49 Years     1051\n",
       "30 - 39 Years      415\n",
       "20 - 29 Years      167\n",
       "10 - 19 Years       49\n",
       "0 - 9 Years         19\n",
       "Name: age_group, dtype: int64"
      ]
     },
     "execution_count": 26,
     "metadata": {},
     "output_type": "execute_result"
    }
   ],
   "source": [
    "death = cov.loc[(cov['death_yn'] ==1)]\n",
    "death['age_group'].value_counts()"
   ]
  },
  {
   "cell_type": "markdown",
   "metadata": {},
   "source": [
    "#### Tampilkan data jumlah orang dengan ras Hispanic/Latino berumur 20-29 tahun, status saat ini confirmed dan sudah berada di rumah sakit"
   ]
  },
  {
   "cell_type": "markdown",
   "metadata": {},
   "source": [
    "Lakukan seleksi status dari kolom ```current_status```, kategori umur dari ```age_group```, rumah sakit dari ```hosp_yn``` dan ras dari ```race```"
   ]
  },
  {
   "cell_type": "code",
   "execution_count": 27,
   "metadata": {},
   "outputs": [
    {
     "data": {
      "text/plain": [
       "race             current_status             age_group      hosp_yn\n",
       "Hispanic/Latino  Laboratory-confirmed case  20 - 29 Years  1          1462\n",
       "Name: race, dtype: int64"
      ]
     },
     "execution_count": 27,
     "metadata": {},
     "output_type": "execute_result"
    }
   ],
   "source": [
    "hispanic = cov.loc[(cov['current_status'] == 'Laboratory-confirmed case')\n",
    "           & (cov['age_group'] == '20 - 29 Years')\n",
    "           & (cov['race'] == 'Hispanic/Latino')\n",
    "           & (cov['hosp_yn'] == 1)].groupby(['race','current_status','age_group','hosp_yn'])['race'].count()\n",
    "hispanic"
   ]
  },
  {
   "cell_type": "markdown",
   "metadata": {},
   "source": [
    "## Visualization"
   ]
  },
  {
   "cell_type": "markdown",
   "metadata": {},
   "source": [
    "Menampilkan grafik menggunakan pair plot untuk melihat kondisi ```hosp_yn```, ```icu_yn```, ```death_yn```, dan ```medcond_yn``` berdasarkan ras/etnisnya"
   ]
  },
  {
   "cell_type": "code",
   "execution_count": 28,
   "metadata": {},
   "outputs": [
    {
     "name": "stderr",
     "output_type": "stream",
     "text": [
      "D:\\Program\\anaconda3\\lib\\site-packages\\seaborn\\distributions.py:369: UserWarning: Default bandwidth for data is 0; skipping density estimation.\n",
      "  warnings.warn(msg, UserWarning)\n",
      "D:\\Program\\anaconda3\\lib\\site-packages\\seaborn\\distributions.py:369: UserWarning: Default bandwidth for data is 0; skipping density estimation.\n",
      "  warnings.warn(msg, UserWarning)\n",
      "D:\\Program\\anaconda3\\lib\\site-packages\\seaborn\\distributions.py:369: UserWarning: Default bandwidth for data is 0; skipping density estimation.\n",
      "  warnings.warn(msg, UserWarning)\n"
     ]
    },
    {
     "data": {
      "image/png": "[encoded data removed]",
      "text/plain": [
       "<Figure size 1020.12x720 with 20 Axes>"
      ]
     },
     "metadata": {
      "needs_background": "light"
     },
     "output_type": "display_data"
    }
   ],
   "source": [
    "sns.pairplot(cov, hue='race', markers='+')\n",
    "plt.tight_layout()"
   ]
  },
  {
   "cell_type": "markdown",
   "metadata": {},
   "source": [
    "Menampilkan grafik jumlah orang berdasarkan Gender dengan plot bar"
   ]
  },
  {
   "cell_type": "code",
   "execution_count": 29,
   "metadata": {},
   "outputs": [
    {
     "data": {
      "image/png": "[encoded data removed]",
      "text/plain": [
       "<Figure size 432x288 with 1 Axes>"
      ]
     },
     "metadata": {
      "needs_background": "light"
     },
     "output_type": "display_data"
    }
   ],
   "source": [
    "cov['sex'].value_counts().plot.bar()\n",
    "\n",
    "plt.tight_layout()\n",
    "plt.show()"
   ]
  },
  {
   "cell_type": "markdown",
   "metadata": {},
   "source": [
    "Menampilkan grafik jumlah orang/pasien berdasarkan status saat ini, gender, kelompok usia, dan ras/etnis"
   ]
  },
  {
   "cell_type": "code",
   "execution_count": 55,
   "metadata": {},
   "outputs": [
    {
     "data": {
      "text/plain": [
       "Text(0.5, 1.0, 'Ras/Etnis')"
      ]
     },
     "execution_count": 55,
     "metadata": {},
     "output_type": "execute_result"
    },
    {
     "data": {
      "image/png": "[encoded data removed]",
      "text/plain": [
       "<Figure size 1152x576 with 4 Axes>"
      ]
     },
     "metadata": {
      "needs_background": "light"
     },
     "output_type": "display_data"
    }
   ],
   "source": [
    "fig,ax = plt.subplots(nrows=2, ncols=2, figsize=(16,8))\n",
    "\n",
    "cov['current_status'].value_counts().plot.line(ax=ax[0][0])\n",
    "ax[0][0].set_title('Status Pasien')\n",
    "\n",
    "cov['sex'].value_counts().plot.line(ax=ax[0][1])\n",
    "ax[0][1].set_title('Gender')\n",
    "\n",
    "cov.age_group.value_counts().plot.line(ax=ax[1][0])\n",
    "ax[1][0].set_title('Kelompok Usia')\n",
    "\n",
    "cov.race.value_counts().plot.line(ax=ax[1][1])\n",
    "ax[1][1].set_title('Ras/Etnis')"
   ]
  },
  {
   "cell_type": "markdown",
   "metadata": {},
   "source": [
    "Menampilkan grafik menggunakan pair plot untuk melihat kondisi ```hosp_yn```, ```icu_yn```, ```death_yn```, dan ```medcond_yn``` dengan Histogram"
   ]
  },
  {
   "cell_type": "code",
   "execution_count": 30,
   "metadata": {},
   "outputs": [
    {
     "data": {
      "image/png": "[encoded data removed]",
      "text/plain": [
       "<Figure size 432x432 with 4 Axes>"
      ]
     },
     "metadata": {
      "needs_background": "light"
     },
     "output_type": "display_data"
    }
   ],
   "source": [
    "cov.hist(figsize=(6,6), bins=10)\n",
    "plt.tight_layout()"
   ]
  },
  {
   "cell_type": "markdown",
   "metadata": {},
   "source": [
    "Menampilkan grafik jumlah pengumpulan spesimen positif dari waktu ke waktu dengan subplots"
   ]
  },
  {
   "cell_type": "code",
   "execution_count": 31,
   "metadata": {},
   "outputs": [
    {
     "data": {
      "image/png": "[encoded data removed]",
      "text/plain": [
       "<Figure size 576x288 with 1 Axes>"
      ]
     },
     "metadata": {
      "needs_background": "light"
     },
     "output_type": "display_data"
    }
   ],
   "source": [
    "fig, ax = plt.subplots(figsize=(8,4))\n",
    "_ = ax.set_title('Pengumpulan Spesimen Positif')\n",
    "_ = ax.plot(np.sort(cov['pos_spec_dt']), marker='o', markersize=1, linestyle='')\n",
    "\n",
    "_ = ax.set_xscale('log')\n",
    "_ = ax.set_ylabel('Bulan')\n",
    "_ = ax.set_xlabel('Spesimen Positif')"
   ]
  },
  {
   "cell_type": "markdown",
   "metadata": {},
   "source": [
    "Menampilkan grafik perbandingan jumlah pengumpulan spesimen positif dari waktu ke waktu dengan jumlah laporan pasien dengan gejala yang diterima CDC"
   ]
  },
  {
   "cell_type": "code",
   "execution_count": 37,
   "metadata": {},
   "outputs": [
    {
     "data": {
      "image/png": "[encoded data removed]",
      "text/plain": [
       "<Figure size 1152x576 with 1 Axes>"
      ]
     },
     "metadata": {
      "needs_background": "light"
     },
     "output_type": "display_data"
    }
   ],
   "source": [
    "fig, ax = plt.subplots(figsize=(16,8))\n",
    "\n",
    "_ = ax.scatter('onset_dt', 'pos_spec_dt', data=cov)\n",
    "\n",
    "_ = ax.set_title('Covid Dataset')\n",
    "_ = ax.set_xlabel('Data Pasien dengan Gejala dikumpulkan')\n",
    "_ = ax.set_ylabel('Spesimen Positif Dikumpulkan')"
   ]
  },
  {
   "cell_type": "markdown",
   "metadata": {},
   "source": [
    "Menampilkan grafik ras/etnis"
   ]
  },
  {
   "cell_type": "code",
   "execution_count": 40,
   "metadata": {},
   "outputs": [
    {
     "name": "stderr",
     "output_type": "stream",
     "text": [
      "<ipython-input-40-5060b67abcaa>:3: UserWarning: Tight layout not applied. The bottom and top margins cannot be made large enough to accommodate all axes decorations. \n",
      "  plt.tight_layout()\n"
     ]
    },
    {
     "data": {
      "image/png": "[encoded data removed]",
      "text/plain": [
       "<Figure size 432x288 with 1 Axes>"
      ]
     },
     "metadata": {
      "needs_background": "light"
     },
     "output_type": "display_data"
    }
   ],
   "source": [
    "cov['race'].value_counts().plot.bar()\n",
    "\n",
    "plt.tight_layout()\n",
    "plt.show()"
   ]
  }
 ],
 "metadata": {
  "kernelspec": {
   "display_name": "Python 3",
   "language": "python",
   "name": "python3"
  },
  "language_info": {
   "codemirror_mode": {
    "name": "ipython",
    "version": 3
   },
   "file_extension": ".py",
   "mimetype": "text/x-python",
   "name": "python",
   "nbconvert_exporter": "python",
   "pygments_lexer": "ipython3",
   "version": "3.8.3"
  }
 },
 "nbformat": 4,
 "nbformat_minor": 4
}
